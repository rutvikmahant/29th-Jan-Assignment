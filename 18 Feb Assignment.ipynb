{
 "cells": [
  {
   "cell_type": "code",
   "execution_count": 2,
   "id": "49693b0d-c0ad-4d45-b979-30e6e7165190",
   "metadata": {},
   "outputs": [
    {
     "data": {
      "text/plain": [
       "' \\n    API- API stands for application programming interface. It is an interaface which enables two applications to communicate with each other.\\n    Example- When we initiate any transaction using any UPI application a communication happens between bank server and UPI application which is an example of API real life'"
      ]
     },
     "execution_count": 2,
     "metadata": {},
     "output_type": "execute_result"
    }
   ],
   "source": [
    "#Que1\n",
    "\"\"\" \n",
    "    API- API stands for application programming interface. It is an interaface which enables two applications to communicate with each other.\n",
    "    Example- When we initiate any transaction using any UPI application a communication happens between bank server and UPI application which is an example of API real life\"\"\""
   ]
  },
  {
   "cell_type": "code",
   "execution_count": 3,
   "id": "4f672dc5-d67a-458a-949c-fefa51ddebdb",
   "metadata": {},
   "outputs": [
    {
     "data": {
      "text/plain": [
       "\"\\n    Advantages of API-\\n        1) Upgrades user experience.\\n        2) Innovative technologies can be made by cummulation of various applications.\\n        3) Reduces time requirement for developing applications.\\n        4) It provides better integration.\\n        5) More improved services can be obtained due to API.\\n        \\n    Disadvantages of APT-\\n        1) Due to single point of entry it can become hacker's target.\\n        2) Once API is compromised all other system and applications become vulnerable.\\n        3) Implementing API can be costly.\\n        4) API's require extensive programming knowledge.\\n        5) No guarantee of stability. \""
      ]
     },
     "execution_count": 3,
     "metadata": {},
     "output_type": "execute_result"
    }
   ],
   "source": [
    "#Que2\n",
    "\"\"\"\n",
    "    Advantages of API-\n",
    "        1) Upgrades user experience.\n",
    "        2) Innovative technologies can be made by cummulation of various applications.\n",
    "        3) Reduces time requirement for developing applications.\n",
    "        4) It provides better integration.\n",
    "        5) More improved services can be obtained due to API.\n",
    "        \n",
    "    Disadvantages of APT-\n",
    "        1) Due to single point of entry it can become hacker's target.\n",
    "        2) Once API is compromised all other system and applications become vulnerable.\n",
    "        3) Implementing API can be costly.\n",
    "        4) API's require extensive programming knowledge.\n",
    "        5) No guarantee of stability. \"\"\""
   ]
  },
  {
   "cell_type": "code",
   "execution_count": 4,
   "id": "70db5191-8e0e-4e9f-bd07-8bd1446b5b93",
   "metadata": {},
   "outputs": [
    {
     "data": {
      "text/plain": [
       "'\\n    1) WebAPI- API stands for Application Programming Interface. It is a collection of protocols used by various programs to communicate between them but they must be web based.\\n    \\n    2) Difference between API and WebAPI-\\n        a) API is an Application Programming Interface that allows software applications to interact with each other. While WebAPI is a set of standards and protocols for \\n           accessing web-based software applications or web tools. This is a prime difference between API and WebAPI. WebAPI is termed is an subset of API which means that it is\\n           a type of API which works for web applications whereas API only works between systems connection manualy. WebAPI is based upon TCP/IP or HTTP. Gmail application, UPI \\n           applications are prime example of WebAPI. '"
      ]
     },
     "execution_count": 4,
     "metadata": {},
     "output_type": "execute_result"
    }
   ],
   "source": [
    "#Que3\n",
    "\"\"\"\n",
    "    1) WebAPI- API stands for Application Programming Interface. It is a collection of protocols used by various programs to communicate between them but they must be web based.\n",
    "    \n",
    "    2) Difference between API and WebAPI-\n",
    "        a) API is an Application Programming Interface that allows software applications to interact with each other. While WebAPI is a set of standards and protocols for \n",
    "           accessing web-based software applications or web tools. This is a prime difference between API and WebAPI. WebAPI is termed is an subset of API which means that it is\n",
    "           a type of API which works for web applications whereas API only works between systems connection manualy. WebAPI is based upon TCP/IP or HTTP. Gmail application, UPI \n",
    "           applications are prime example of WebAPI. \"\"\""
   ]
  },
  {
   "cell_type": "code",
   "execution_count": 5,
   "id": "e255dcc8-c6b4-4d72-8f45-41532afdabc4",
   "metadata": {},
   "outputs": [
    {
     "data": {
      "text/plain": [
       "\"\\n    1) REST- It is based upon WebAPI. Which uses HTTP protocol to transfer, update, insert, delete data. It is designed to communicate over web. It is simple in terms of \\n             development. It is scalable and flexible. As compaired to SOAP it is easy to implement. It is an stateless protocol which can be cached. It is less secure than REST.\\n    2) SOAP- It is based upon XML which communicates through XML file system. It is uses WSDL internally. It supports HTTP, TCP/IP, SMTP protocols. It is more lightweight than REST which\\n             cannot handle heavy transactions. It is complex architecture and more secure than REST.\\n            \\n    3) Shortcomings of SOAP- SOAP cannot be scaled as it is lightweight and complex which makes it less preferable than REST. Complexity is a major factor here which binds \\n                             limitations over the architecture. SOAP can't use REST as it is a protocal. \""
      ]
     },
     "execution_count": 5,
     "metadata": {},
     "output_type": "execute_result"
    }
   ],
   "source": [
    "#Que4\n",
    "\"\"\"\n",
    "    1) REST- It is based upon WebAPI. Which uses HTTP protocol to transfer, update, insert, delete data. It is designed to communicate over web. It is simple in terms of \n",
    "             development. It is scalable and flexible. As compaired to SOAP it is easy to implement. It is an stateless protocol which can be cached. It is less secure than REST.\n",
    "    2) SOAP- It is based upon XML which communicates through XML file system. It is uses WSDL internally. It supports HTTP, TCP/IP, SMTP protocols. It is more lightweight than REST which\n",
    "             cannot handle heavy transactions. It is complex architecture and more secure than REST.\n",
    "            \n",
    "    3) Shortcomings of SOAP- SOAP cannot be scaled as it is lightweight and complex which makes it less preferable than REST. Complexity is a major factor here which binds \n",
    "                             limitations over the architecture. SOAP can't use REST as it is a protocal. \"\"\""
   ]
  },
  {
   "cell_type": "code",
   "execution_count": 6,
   "id": "c1bc856f-9de8-401f-b13b-aa528c441d4f",
   "metadata": {},
   "outputs": [
    {
     "data": {
      "text/plain": [
       "\"\\n    Difference between REST and SOAP-\\n            1) SOAP is a protocol while REST is an architectural style.\\n            2) SOAP can't use REST because it is a protocol. While REST can use SOAP as it is a concept.\\n            3) SOAP defines standards to be strictly followed while REST does not define too much standards like SOAP.\\n            4) SOAP is more secure than REST.\\n            5) SOAP is more complex hence it is not preffered as much as REST. \""
      ]
     },
     "execution_count": 6,
     "metadata": {},
     "output_type": "execute_result"
    }
   ],
   "source": [
    "#Que5\n",
    "\"\"\"\n",
    "    Difference between REST and SOAP-\n",
    "            1) SOAP is a protocol while REST is an architectural style.\n",
    "            2) SOAP can't use REST because it is a protocol. While REST can use SOAP as it is a concept.\n",
    "            3) SOAP defines standards to be strictly followed while REST does not define too much standards like SOAP.\n",
    "            4) SOAP is more secure than REST.\n",
    "            5) SOAP is more complex hence it is not preffered as much as REST. \"\"\""
   ]
  },
  {
   "cell_type": "code",
   "execution_count": null,
   "id": "3f7b027a-bca9-403a-a3fc-b02950478cf1",
   "metadata": {},
   "outputs": [],
   "source": []
  }
 ],
 "metadata": {
  "kernelspec": {
   "display_name": "Python 3 (ipykernel)",
   "language": "python",
   "name": "python3"
  },
  "language_info": {
   "codemirror_mode": {
    "name": "ipython",
    "version": 3
   },
   "file_extension": ".py",
   "mimetype": "text/x-python",
   "name": "python",
   "nbconvert_exporter": "python",
   "pygments_lexer": "ipython3",
   "version": "3.10.8"
  }
 },
 "nbformat": 4,
 "nbformat_minor": 5
}
