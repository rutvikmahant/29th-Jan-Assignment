{
 "cells": [
  {
   "cell_type": "code",
   "execution_count": 1,
   "id": "72c16037-fc8b-4b8e-b7e8-18609e69642b",
   "metadata": {},
   "outputs": [
    {
     "data": {
      "text/plain": [
       "'\\n    1)Flask framework- Flask is a web framework that provides libraries to build lightweight web applications in python.\\n    2)Advantages of Flask-\\n            a) It is easy to develop and maintain applications.\\n            b) Routing url is efficient and less complex.\\n            c) Integration with database is easy.\\n            d) Highly scalable\\n            e) Highly Flexible. '"
      ]
     },
     "execution_count": 1,
     "metadata": {},
     "output_type": "execute_result"
    }
   ],
   "source": [
    "#Que1\n",
    "\"\"\"\n",
    "    1)Flask framework- Flask is a web framework that provides libraries to build lightweight web applications in python.\n",
    "    2)Advantages of Flask-\n",
    "            a) It is easy to develop and maintain applications.\n",
    "            b) Routing url is efficient and less complex.\n",
    "            c) Integration with database is easy.\n",
    "            d) Highly scalable\n",
    "            e) Highly Flexible. \"\"\""
   ]
  },
  {
   "cell_type": "code",
   "execution_count": 2,
   "id": "fac7cfb2-c93b-4490-b6fb-6214442cf7d3",
   "metadata": {},
   "outputs": [
    {
     "name": "stdout",
     "output_type": "stream",
     "text": [
      "Requirement already satisfied: flask in /opt/conda/lib/python3.10/site-packages (2.2.3)\n",
      "Requirement already satisfied: itsdangerous>=2.0 in /opt/conda/lib/python3.10/site-packages (from flask) (2.1.2)\n",
      "Requirement already satisfied: click>=8.0 in /opt/conda/lib/python3.10/site-packages (from flask) (8.1.3)\n",
      "Requirement already satisfied: Werkzeug>=2.2.2 in /opt/conda/lib/python3.10/site-packages (from flask) (2.2.3)\n",
      "Requirement already satisfied: Jinja2>=3.0 in /opt/conda/lib/python3.10/site-packages (from flask) (3.1.2)\n",
      "Requirement already satisfied: MarkupSafe>=2.0 in /opt/conda/lib/python3.10/site-packages (from Jinja2>=3.0->flask) (2.1.1)\n",
      "Note: you may need to restart the kernel to use updated packages.\n"
     ]
    }
   ],
   "source": [
    "pip install flask"
   ]
  },
  {
   "cell_type": "code",
   "execution_count": null,
   "id": "454df4c6-16bd-4d17-8a69-f736a9e467fb",
   "metadata": {},
   "outputs": [
    {
     "name": "stdout",
     "output_type": "stream",
     "text": [
      " * Serving Flask app '__main__'\n",
      " * Debug mode: off\n"
     ]
    },
    {
     "name": "stderr",
     "output_type": "stream",
     "text": [
      "WARNING: This is a development server. Do not use it in a production deployment. Use a production WSGI server instead.\n",
      " * Running on all addresses (0.0.0.0)\n",
      " * Running on http://127.0.0.1:5000\n",
      " * Running on http://172.18.0.15:5000\n",
      "Press CTRL+C to quit\n"
     ]
    }
   ],
   "source": [
    "#Que2\n",
    "from flask import Flask\n",
    "app = Flask(__name__)\n",
    "@app.route(\"/\")\n",
    "def hello_world():\n",
    "    return \"<h1>Hello World!!</h1>\"\n",
    "if __name__==\"__main__\":\n",
    "    app.run(host=\"0.0.0.0\")"
   ]
  },
  {
   "cell_type": "code",
   "execution_count": null,
   "id": "8cd9ea3b-7f89-4c28-af30-e8a8570a3b4e",
   "metadata": {},
   "outputs": [],
   "source": [
    "#Que3\n",
    "\"\"\"In Flask, app routing refers to the process of mapping URLs or routes to specific functions that handle HTTP requests.\n",
    "It allows us to define how our Flask application should respond to requests from different URLs or endpoints.\n",
    "We use app routes in Flask to define the behavior of our application when it receives specific requests.\n",
    "For example, if a user makes a request to a particular URL, we can define a function that handles that request and returns the appropriate response. \n",
    "By using app routes, we can create dynamic and interactive web applications that can handle different types of requests and respond with different data based on the request.\n",
    "\n",
    "To create an app route in Flask, we use the @app.route decorator, which allows us to specify the URL that should trigger a particular function. Here's an example:\"\"\"\n",
    "\n",
    "from flask import Flask\n",
    "\n",
    "app = Flask(__name__)\n",
    "\n",
    "@app.route('/')\n",
    "def index():\n",
    "    return 'Hello, World!'\n",
    "\n"
   ]
  },
  {
   "cell_type": "code",
   "execution_count": null,
   "id": "60f5374a-a223-4aef-afb7-f4a5fe3075d7",
   "metadata": {},
   "outputs": [],
   "source": [
    "#Que4\n",
    "from flask import Flask\n",
    "\n",
    "app = Flask(__name__)\n",
    "\n",
    "@app.route(\"/welcome\")\n",
    "def hello_world():\n",
    "    return \"<h1>Welcome to ABC Corporation</h1>\"\n",
    "@app.route(\"/\")\n",
    "def hello_world1():\n",
    "    a = \"<h1>Company Name: ABC Corporation</h1>\"\"<h2>Location: India</h2>\"\"<h2> Contact Detail: 999-999-9999</h2>\"        \n",
    "    return a\n",
    "if __name__==\"__main__\":\n",
    "    app.run(host=\"0.0.0.0\")"
   ]
  },
  {
   "cell_type": "code",
   "execution_count": null,
   "id": "81e6c6db-4e46-4bfa-8325-3b1f6e390dbc",
   "metadata": {},
   "outputs": [],
   "source": [
    "#Que5\n",
    "\"\"\"\n",
    "    1)url_for() function is used in flask for url building. \"\"\"\n",
    "\n",
    "from flask import Flask, url_for\n",
    "app = Flask(__name__)\n",
    "\n",
    "@app.route('/user/<name>')\n",
    "def hello(name):\n",
    "    return 'Hello %s'%name\n",
    "\n",
    "if __name__==\"__main__\":\n",
    "    app.run(host=\"0.0.0.0\")"
   ]
  },
  {
   "cell_type": "code",
   "execution_count": null,
   "id": "4f5dd21c-776e-45cf-988a-806fc79ab7f6",
   "metadata": {},
   "outputs": [],
   "source": []
  }
 ],
 "metadata": {
  "kernelspec": {
   "display_name": "Python 3 (ipykernel)",
   "language": "python",
   "name": "python3"
  },
  "language_info": {
   "codemirror_mode": {
    "name": "ipython",
    "version": 3
   },
   "file_extension": ".py",
   "mimetype": "text/x-python",
   "name": "python",
   "nbconvert_exporter": "python",
   "pygments_lexer": "ipython3",
   "version": "3.10.8"
  }
 },
 "nbformat": 4,
 "nbformat_minor": 5
}
