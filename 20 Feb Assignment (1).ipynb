{
 "cells": [
  {
   "cell_type": "code",
   "execution_count": 1,
   "id": "e6caa775-56ad-4596-a85f-cee4cdccc8a2",
   "metadata": {},
   "outputs": [
    {
     "data": {
      "text/plain": [
       "\"\\n    1)GET- This method sends request from client side to the server side to get certain data or resources. GET method is used to send data in \\n           form of url. When we search anything on google we can see the searched query in the url which is an example of GET method as data is\\n           sent through url here.\\n           \\n    2)POST- Post method also sends request from client to server same as GET method. Post methods sends data in form of a body which makes it \\n            more secure than GET method. When we put our credentials in gmail we can't see them in the url as they are sent through body which \\n            is an example of POST method. \""
      ]
     },
     "execution_count": 1,
     "metadata": {},
     "output_type": "execute_result"
    }
   ],
   "source": [
    "#Que1\n",
    "\"\"\"\n",
    "    1)GET- This method sends request from client side to the server side to get certain data or resources. GET method is used to send data in \n",
    "           form of url. When we search anything on google we can see the searched query in the url which is an example of GET method as data is\n",
    "           sent through url here.\n",
    "           \n",
    "    2)POST- Post method also sends request from client to server same as GET method. Post methods sends data in form of a body which makes it \n",
    "            more secure than GET method. When we put our credentials in gmail we can't see them in the url as they are sent through body which \n",
    "            is an example of POST method. \"\"\""
   ]
  },
  {
   "cell_type": "code",
   "execution_count": 2,
   "id": "3066070f-3773-4a4f-9649-79ac8f8721a8",
   "metadata": {},
   "outputs": [
    {
     "data": {
      "text/plain": [
       "'\\n    As we know it is a client server architecture upon which we are working. Here communication between client and server is done through API.\\n    We are working upon REST architecture which used methods such as GET,POST, the communication happens when client sends request to server on\\n    an specific route upon which the servers gives and response. Hence, request is used to communicate with the server upon a specific route\\n    to get certain data or resources. '"
      ]
     },
     "execution_count": 2,
     "metadata": {},
     "output_type": "execute_result"
    }
   ],
   "source": [
    "#Que2\n",
    "\"\"\"\n",
    "    As we know it is a client server architecture upon which we are working. Here communication between client and server is done through API.\n",
    "    We are working upon REST architecture which used methods such as GET,POST, the communication happens when client sends request to server on\n",
    "    an specific route upon which the servers gives and response. Hence, request is used to communicate with the server upon a specific route\n",
    "    to get certain data or resources. \"\"\""
   ]
  },
  {
   "cell_type": "code",
   "execution_count": 3,
   "id": "1dfb0045-c3a3-4b3a-8a13-f5a14e051722",
   "metadata": {},
   "outputs": [
    {
     "data": {
      "text/plain": [
       "'\\n    redirect()- As the name suggests redirect function when called redirects the web page to another url. It is used to return the response of \\n                an object and redirects the user to another target location with specified status code. It can be used to connect multiple routes.\\n                If function under a route is completed then redirect will get us directly move uopn another route without client request.\\n                which makes the whole proccess very efficient. '"
      ]
     },
     "execution_count": 3,
     "metadata": {},
     "output_type": "execute_result"
    }
   ],
   "source": [
    "#Que3\n",
    "\"\"\"\n",
    "    redirect()- As the name suggests redirect function when called redirects the web page to another url. It is used to return the response of \n",
    "                an object and redirects the user to another target location with specified status code. It can be used to connect multiple routes.\n",
    "                If function under a route is completed then redirect will get us directly move uopn another route without client request.\n",
    "                which makes the whole proccess very efficient. \"\"\""
   ]
  },
  {
   "cell_type": "code",
   "execution_count": 4,
   "id": "e85e7709-53ff-4304-8a5f-bccf41a0a441",
   "metadata": {},
   "outputs": [
    {
     "data": {
      "text/plain": [
       "'\\n    1) Templates- A template is a predesigned resource that shows the structure for the comprehensive layout and display features of any website.\\n                  Instead of taking responses in a orthodox way by printing them we can use templates. Templates are html files which basically \\n                  consist of buttons,textbox,textareas,etc. which makes the front end of the whole system. \\n                  \\n    2) render_template()- The render_template function asks for name of the template file existing, after which it access it. The tempalate\\n                          constituents are then rendered with the flask code. Hence, we see the result in the browser. '"
      ]
     },
     "execution_count": 4,
     "metadata": {},
     "output_type": "execute_result"
    }
   ],
   "source": [
    "#Que4\n",
    "\"\"\"\n",
    "    1) Templates- A template is a predesigned resource that shows the structure for the comprehensive layout and display features of any website.\n",
    "                  Instead of taking responses in a orthodox way by printing them we can use templates. Templates are html files which basically \n",
    "                  consist of buttons,textbox,textareas,etc. which makes the front end of the whole system. \n",
    "                  \n",
    "    2) render_template()- The render_template function asks for name of the template file existing, after which it access it. The tempalate\n",
    "                          constituents are then rendered with the flask code. Hence, we see the result in the browser. \"\"\""
   ]
  },
  {
   "cell_type": "code",
   "execution_count": null,
   "id": "0d1e5399-c163-4456-aca3-f484ff7e6bb0",
   "metadata": {},
   "outputs": [
    {
     "name": "stdout",
     "output_type": "stream",
     "text": [
      "Requirement already satisfied: flask in /opt/conda/lib/python3.10/site-packages (2.2.3)\n",
      "Requirement already satisfied: itsdangerous>=2.0 in /opt/conda/lib/python3.10/site-packages (from flask) (2.1.2)\n",
      "Requirement already satisfied: Jinja2>=3.0 in /opt/conda/lib/python3.10/site-packages (from flask) (3.1.2)\n",
      "Requirement already satisfied: click>=8.0 in /opt/conda/lib/python3.10/site-packages (from flask) (8.1.3)\n",
      "Requirement already satisfied: Werkzeug>=2.2.2 in /opt/conda/lib/python3.10/site-packages (from flask) (2.2.3)\n",
      "Requirement already satisfied: MarkupSafe>=2.0 in /opt/conda/lib/python3.10/site-packages (from Jinja2>=3.0->flask) (2.1.1)\n",
      " * Serving Flask app '__main__'\n",
      " * Debug mode: off\n"
     ]
    },
    {
     "name": "stderr",
     "output_type": "stream",
     "text": [
      "WARNING: This is a development server. Do not use it in a production deployment. Use a production WSGI server instead.\n",
      " * Running on all addresses (0.0.0.0)\n",
      " * Running on http://127.0.0.1:5000\n",
      " * Running on http://172.18.0.15:5000\n",
      "Press CTRL+C to quit\n",
      "172.18.0.2 - - [30/Mar/2023 04:44:21] \"GET / HTTP/1.1\" 200 -\n",
      "172.18.0.2 - - [30/Mar/2023 04:48:22] \"GET / HTTP/1.1\" 200 -\n"
     ]
    }
   ],
   "source": [
    "#Que5\n",
    "!pip install flask\n",
    "from flask import Flask\n",
    "app = Flask(__name__)\n",
    "@app.route(\"/\")\n",
    "def hello_world():\n",
    "    return \"Hello World!!\"\n",
    "if __name__==\"__main__\":\n",
    "    app.run(host=\"0.0.0.0\")"
   ]
  },
  {
   "cell_type": "raw",
   "id": "4a7b71d3-a15d-4dc3-929c-1a07596f1158",
   "metadata": {},
   "source": [
    "#Link to Screenshot\n",
    "https://white-nurse-grywq.pwskills.app/files/work/ASSIGNMENTS/Screenshot%20(49).png?_xsrf=2%7C0ef04043%7Cd896fbf666c5d566204e58e040f858fe%7C1678163133"
   ]
  },
  {
   "cell_type": "code",
   "execution_count": null,
   "id": "9ed5ad6c-7e5a-4e6c-8dc6-2c23a7642403",
   "metadata": {},
   "outputs": [],
   "source": [
    "#"
   ]
  },
  {
   "cell_type": "code",
   "execution_count": null,
   "id": "57a23d23-21ce-4113-9a59-5d102a2a10e6",
   "metadata": {},
   "outputs": [],
   "source": []
  }
 ],
 "metadata": {
  "kernelspec": {
   "display_name": "Python 3 (ipykernel)",
   "language": "python",
   "name": "python3"
  },
  "language_info": {
   "codemirror_mode": {
    "name": "ipython",
    "version": 3
   },
   "file_extension": ".py",
   "mimetype": "text/x-python",
   "name": "python",
   "nbconvert_exporter": "python",
   "pygments_lexer": "ipython3",
   "version": "3.10.8"
  }
 },
 "nbformat": 4,
 "nbformat_minor": 5
}
