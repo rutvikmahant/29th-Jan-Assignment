{
 "cells": [
  {
   "cell_type": "code",
   "execution_count": 1,
   "id": "481e9345-fc10-4365-a4cf-dc1428793184",
   "metadata": {},
   "outputs": [],
   "source": [
    "#Que1\n",
    "import numpy as np\n",
    "\n",
    "list_ = ['1', '2', '3', '4', '5']\n",
    "array_list = np.array(object=list_)"
   ]
  },
  {
   "cell_type": "code",
   "execution_count": 2,
   "id": "45d53159-f817-4d02-bb5c-7dea53140b97",
   "metadata": {},
   "outputs": [],
   "source": [
    "#Yes, there is a difference in the data type of variables list_ and array_list. list___ is a Python list object, while __array_list is a NumPy array object."
   ]
  },
  {
   "cell_type": "code",
   "execution_count": 3,
   "id": "28ae3636-4ffd-4de9-80bb-1a52aa9af70f",
   "metadata": {},
   "outputs": [
    {
     "data": {
      "text/plain": [
       "list"
      ]
     },
     "execution_count": 3,
     "metadata": {},
     "output_type": "execute_result"
    }
   ],
   "source": [
    "type(list_)"
   ]
  },
  {
   "cell_type": "code",
   "execution_count": 4,
   "id": "2d643453-8c36-4754-93bf-e94bd57ea419",
   "metadata": {},
   "outputs": [
    {
     "data": {
      "text/plain": [
       "numpy.ndarray"
      ]
     },
     "execution_count": 4,
     "metadata": {},
     "output_type": "execute_result"
    }
   ],
   "source": [
    "type(array_list)"
   ]
  },
  {
   "cell_type": "code",
   "execution_count": 5,
   "id": "635409ec-f93f-4cf4-b497-9274bf2cd929",
   "metadata": {},
   "outputs": [],
   "source": [
    "#Que2\n",
    "list_ = ['1', '2', '3', '4', '5']\n",
    "array_list = np.array(object=list_)"
   ]
  },
  {
   "cell_type": "code",
   "execution_count": 6,
   "id": "9e6c8834-8be9-428f-812c-868c745c9fbf",
   "metadata": {},
   "outputs": [
    {
     "name": "stdout",
     "output_type": "stream",
     "text": [
      "<class 'str'>\n",
      "<class 'str'>\n",
      "<class 'str'>\n",
      "<class 'str'>\n",
      "<class 'str'>\n"
     ]
    }
   ],
   "source": [
    "# Each element is string class\n",
    "for i in list_:\n",
    "    print(type(i))"
   ]
  },
  {
   "cell_type": "code",
   "execution_count": 7,
   "id": "d8cd9f79-5000-4758-81b8-c60e3cc646ca",
   "metadata": {},
   "outputs": [
    {
     "name": "stdout",
     "output_type": "stream",
     "text": [
      "<class 'numpy.str_'>\n",
      "<class 'numpy.str_'>\n",
      "<class 'numpy.str_'>\n",
      "<class 'numpy.str_'>\n",
      "<class 'numpy.str_'>\n"
     ]
    }
   ],
   "source": [
    "# Each element is numpy_string class\n",
    "for i in array_list:\n",
    "    print(type(i))"
   ]
  },
  {
   "cell_type": "code",
   "execution_count": 8,
   "id": "1bc7c948-7db8-4696-ba24-6a66f7b2d7e1",
   "metadata": {},
   "outputs": [],
   "source": [
    "#Que3\n",
    "#array_list = np.array(object = list_, dtype = int)"
   ]
  },
  {
   "cell_type": "code",
   "execution_count": 9,
   "id": "f208230d-1e95-4b2b-9001-e9400183e735",
   "metadata": {},
   "outputs": [],
   "source": [
    "list_ = ['1', '2', '3', '4', '5']\n",
    "array_list = np.array(object = list_, dtype = int)"
   ]
  },
  {
   "cell_type": "code",
   "execution_count": 10,
   "id": "8726a9db-3281-47f8-ad69-699f253c78f4",
   "metadata": {},
   "outputs": [
    {
     "name": "stdout",
     "output_type": "stream",
     "text": [
      "<class 'str'>\n",
      "<class 'str'>\n",
      "<class 'str'>\n",
      "<class 'str'>\n",
      "<class 'str'>\n"
     ]
    }
   ],
   "source": [
    "# Each element is string class\n",
    "for i in list_:\n",
    "    print(type(i))"
   ]
  },
  {
   "cell_type": "code",
   "execution_count": 11,
   "id": "5fc226b7-2b00-4f56-8596-71279161a2e1",
   "metadata": {},
   "outputs": [
    {
     "name": "stdout",
     "output_type": "stream",
     "text": [
      "<class 'numpy.int64'>\n",
      "<class 'numpy.int64'>\n",
      "<class 'numpy.int64'>\n",
      "<class 'numpy.int64'>\n",
      "<class 'numpy.int64'>\n"
     ]
    }
   ],
   "source": [
    "# Each element is numpy_integer class\n",
    "for i in array_list:\n",
    "    print(type(i))"
   ]
  },
  {
   "cell_type": "code",
   "execution_count": 12,
   "id": "65d51fe1-188b-4158-aebb-34f0216d9586",
   "metadata": {},
   "outputs": [
    {
     "data": {
      "text/plain": [
       "\"The first loop will print the data type of each element in list_, which will be <class 'str'>, since all the elements in list_ are strings.\\n\\nThe second loop will print the data type of each element in array_list, which will be <class 'numpy.int64'>, since all the elements in array_list are now integers due to the dtype=int parameter passed to the np.array() function.\""
      ]
     },
     "execution_count": 12,
     "metadata": {},
     "output_type": "execute_result"
    }
   ],
   "source": [
    "'''The first loop will print the data type of each element in list_, which will be <class 'str'>, since all the elements in list_ are strings.\n",
    "\n",
    "The second loop will print the data type of each element in array_list, which will be <class 'numpy.int64'>, since all the elements in array_list are now integers due to the dtype=int parameter passed to the np.array() function.'''"
   ]
  },
  {
   "cell_type": "code",
   "execution_count": 13,
   "id": "6dc5e03b-bd35-47bf-ac43-1b2d4f038a8f",
   "metadata": {},
   "outputs": [],
   "source": [
    "#Que4\n",
    "import numpy as np\n",
    "num_list = [ [ 1 , 2 , 3 ] , [ 4 , 5 , 6 ] ]\n",
    "num_array = np.array(object = num_list)"
   ]
  },
  {
   "cell_type": "code",
   "execution_count": 14,
   "id": "8a077211-269a-43ec-96c4-1d76a2bd45eb",
   "metadata": {},
   "outputs": [
    {
     "data": {
      "text/plain": [
       "(2, 3)"
      ]
     },
     "execution_count": 14,
     "metadata": {},
     "output_type": "execute_result"
    }
   ],
   "source": [
    "#(i) shape of num_array\n",
    "#The shape attribute of a numpy array returns a tuple containing the dimensions of the array.\n",
    "\n",
    "num_array.shape"
   ]
  },
  {
   "cell_type": "code",
   "execution_count": 15,
   "id": "4aa81722-2737-4eef-b3cb-5201da840036",
   "metadata": {},
   "outputs": [
    {
     "data": {
      "text/plain": [
       "6"
      ]
     },
     "execution_count": 15,
     "metadata": {},
     "output_type": "execute_result"
    }
   ],
   "source": [
    "#(ii) size of num_array\n",
    "#The size attribute of a NumPy array returns the total number of elements in the array.\n",
    "\n",
    "num_array.size"
   ]
  },
  {
   "cell_type": "code",
   "execution_count": 16,
   "id": "12f366ea-0ef0-4cfe-9142-512b9c96a114",
   "metadata": {},
   "outputs": [],
   "source": [
    "#Que5\n",
    "a=np.zeros((3,3))"
   ]
  },
  {
   "cell_type": "code",
   "execution_count": 17,
   "id": "5d2ed175-2743-4ba0-af39-4f964cb2817f",
   "metadata": {},
   "outputs": [
    {
     "data": {
      "text/plain": [
       "array([[0., 0., 0.],\n",
       "       [0., 0., 0.],\n",
       "       [0., 0., 0.]])"
      ]
     },
     "execution_count": 17,
     "metadata": {},
     "output_type": "execute_result"
    }
   ],
   "source": [
    "a"
   ]
  },
  {
   "cell_type": "code",
   "execution_count": 18,
   "id": "1e68cfc1-9c41-4a3e-8cf7-5c9949ab7f84",
   "metadata": {},
   "outputs": [
    {
     "data": {
      "text/plain": [
       "array([[0, 0, 0],\n",
       "       [0, 0, 0],\n",
       "       [0, 0, 0]])"
      ]
     },
     "execution_count": 18,
     "metadata": {},
     "output_type": "execute_result"
    }
   ],
   "source": [
    "np.array([[0,0,0],[0,0,0],[0,0,0]])"
   ]
  },
  {
   "cell_type": "code",
   "execution_count": 19,
   "id": "6b0b71d5-ff49-4248-a967-f397951d0173",
   "metadata": {},
   "outputs": [
    {
     "data": {
      "text/plain": [
       "(3, 3)"
      ]
     },
     "execution_count": 19,
     "metadata": {},
     "output_type": "execute_result"
    }
   ],
   "source": [
    "a.shape"
   ]
  },
  {
   "cell_type": "code",
   "execution_count": 20,
   "id": "2e62fd78-db5f-43d6-a448-bf8995869f6c",
   "metadata": {},
   "outputs": [
    {
     "data": {
      "text/plain": [
       "9"
      ]
     },
     "execution_count": 20,
     "metadata": {},
     "output_type": "execute_result"
    }
   ],
   "source": [
    "a.size"
   ]
  },
  {
   "cell_type": "code",
   "execution_count": 21,
   "id": "30f06f16-d5ff-4d4e-afe9-d79527764864",
   "metadata": {},
   "outputs": [],
   "source": [
    "#Que6\n",
    "a=np.eye(5,5)"
   ]
  },
  {
   "cell_type": "code",
   "execution_count": 22,
   "id": "a09eea9a-cf86-473e-9295-ae14f8633d7d",
   "metadata": {},
   "outputs": [
    {
     "data": {
      "text/plain": [
       "array([[1., 0., 0., 0., 0.],\n",
       "       [0., 1., 0., 0., 0.],\n",
       "       [0., 0., 1., 0., 0.],\n",
       "       [0., 0., 0., 1., 0.],\n",
       "       [0., 0., 0., 0., 1.]])"
      ]
     },
     "execution_count": 22,
     "metadata": {},
     "output_type": "execute_result"
    }
   ],
   "source": [
    "a\n"
   ]
  },
  {
   "cell_type": "code",
   "execution_count": 23,
   "id": "9614af96-6555-46da-b771-977c57011f63",
   "metadata": {},
   "outputs": [
    {
     "data": {
      "text/plain": [
       "(5, 5)"
      ]
     },
     "execution_count": 23,
     "metadata": {},
     "output_type": "execute_result"
    }
   ],
   "source": [
    "a.shape"
   ]
  },
  {
   "cell_type": "code",
   "execution_count": 24,
   "id": "3e2a1b9e-b1e9-4c65-87f5-001f33ee3b7a",
   "metadata": {},
   "outputs": [
    {
     "data": {
      "text/plain": [
       "25"
      ]
     },
     "execution_count": 24,
     "metadata": {},
     "output_type": "execute_result"
    }
   ],
   "source": [
    "a.size"
   ]
  },
  {
   "cell_type": "code",
   "execution_count": null,
   "id": "9cbf3812-b23c-4098-8c98-9c803c3bc3e7",
   "metadata": {},
   "outputs": [],
   "source": []
  }
 ],
 "metadata": {
  "kernelspec": {
   "display_name": "Python 3 (ipykernel)",
   "language": "python",
   "name": "python3"
  },
  "language_info": {
   "codemirror_mode": {
    "name": "ipython",
    "version": 3
   },
   "file_extension": ".py",
   "mimetype": "text/x-python",
   "name": "python",
   "nbconvert_exporter": "python",
   "pygments_lexer": "ipython3",
   "version": "3.10.8"
  }
 },
 "nbformat": 4,
 "nbformat_minor": 5
}
