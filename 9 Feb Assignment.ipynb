{
 "cells": [
  {
   "cell_type": "code",
   "execution_count": 1,
   "id": "99c5d6e7-0c59-4722-b5bc-d859299ebc75",
   "metadata": {},
   "outputs": [],
   "source": [
    "#Que1\n",
    "class vehicle:\n",
    "    def __init__(self,name_of_vehicle,max_speed,average_of_vehicle):\n",
    "        self.name_of_vehicle = name_of_vehicle\n",
    "        self.max_speed = max_speed\n",
    "        self.average_of_vehicle = average_of_vehicle"
   ]
  },
  {
   "cell_type": "code",
   "execution_count": 2,
   "id": "868b0594-32a2-4c88-aa11-2cb75544268d",
   "metadata": {},
   "outputs": [
    {
     "data": {
      "text/plain": [
       "('CRETA', 7)"
      ]
     },
     "execution_count": 2,
     "metadata": {},
     "output_type": "execute_result"
    }
   ],
   "source": [
    "#Que2\n",
    "class car(vehicle):\n",
    "    def seating_capacity(self,capacity):\n",
    "        return self.name_of_vehicle, capacity\n",
    "a = car(\"CRETA\",100,20)\n",
    "a.seating_capacity(7)"
   ]
  },
  {
   "cell_type": "code",
   "execution_count": 3,
   "id": "421b12d3-4679-4624-bf4d-53a37fd629ee",
   "metadata": {},
   "outputs": [
    {
     "data": {
      "text/plain": [
       "' This is second parent class'"
      ]
     },
     "execution_count": 3,
     "metadata": {},
     "output_type": "execute_result"
    }
   ],
   "source": [
    "#Que3\n",
    "# Multiple Inheritance is a type of inheritance property of classes in which more than one class are inherited by child class.\n",
    "class class1:\n",
    "    def fclass1(self):\n",
    "        return \" This is the parent class\"\n",
    "class class2:\n",
    "    def fclass2(self):\n",
    "        return \" This is second parent class\"\n",
    "class class3(class1,class2):\n",
    "    pass\n",
    "b = class3()\n",
    "b.fclass2()"
   ]
  },
  {
   "cell_type": "code",
   "execution_count": 4,
   "id": "5d0a2797-e9b1-463c-a113-faead7693bfd",
   "metadata": {},
   "outputs": [
    {
     "name": "stdout",
     "output_type": "stream",
     "text": [
      "200\n"
     ]
    },
    {
     "data": {
      "text/plain": [
       "250"
      ]
     },
     "execution_count": 4,
     "metadata": {},
     "output_type": "execute_result"
    }
   ],
   "source": [
    "#Que4\n",
    "\"\"\" Getter are used to give access of the encapsulated code to the user.\n",
    "    setter are used to set value for the restricted or encapsulated part of the code by the user. \"\"\"\n",
    "class vehicle:\n",
    "    def __init__(self,name_of_vehicle,max_speed):\n",
    "        self.name_of_vehicle = name_of_vehicle\n",
    "        self.__max_speed = max_speed\n",
    "    @property\n",
    "    def access(self):\n",
    "        return self.__max_speed\n",
    "    @access.getter\n",
    "    def gett(self):\n",
    "        return self.__max_speed\n",
    "    @access.setter\n",
    "    def sett(self,new):\n",
    "        if new >= 150:\n",
    "            self.__max_speed = new\n",
    "        else:\n",
    "            pass\n",
    "a = vehicle(\"Audi\",200)\n",
    "print(a.gett)\n",
    "a.sett = 250\n",
    "a.gett"
   ]
  },
  {
   "cell_type": "code",
   "execution_count": 5,
   "id": "7a08e5ed-8972-4242-ad24-ed3b238421f7",
   "metadata": {},
   "outputs": [
    {
     "name": "stdout",
     "output_type": "stream",
     "text": [
      "9\n",
      "27\n"
     ]
    }
   ],
   "source": [
    "#Que5\n",
    "\"\"\" Method overriding allows child class to provide specific implementation of a method that is already provided by one of its parent class. \"\"\"\n",
    "# Example- Here the method square was overrided by child class. When object is called for both the respective class they give different \n",
    "class parent:\n",
    "    def sqaure(self,n):\n",
    "        return n*n\n",
    "class child(parent):\n",
    "    def sqaure(self,n):\n",
    "        return n**3\n",
    "a = parent()\n",
    "print(a.sqaure(3))    \n",
    "b = child()\n",
    "print(b.sqaure(3))"
   ]
  },
  {
   "cell_type": "code",
   "execution_count": null,
   "id": "55fedcf9-3634-4f75-bdff-c8fa6c96db44",
   "metadata": {},
   "outputs": [],
   "source": []
  }
 ],
 "metadata": {
  "kernelspec": {
   "display_name": "Python 3 (ipykernel)",
   "language": "python",
   "name": "python3"
  },
  "language_info": {
   "codemirror_mode": {
    "name": "ipython",
    "version": 3
   },
   "file_extension": ".py",
   "mimetype": "text/x-python",
   "name": "python",
   "nbconvert_exporter": "python",
   "pygments_lexer": "ipython3",
   "version": "3.10.8"
  }
 },
 "nbformat": 4,
 "nbformat_minor": 5
}
