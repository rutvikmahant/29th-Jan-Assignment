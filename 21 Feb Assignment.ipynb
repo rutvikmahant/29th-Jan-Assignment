{
 "cells": [
  {
   "cell_type": "code",
   "execution_count": 1,
   "id": "9cca103b-afa9-4c3c-a958-bc07377ed156",
   "metadata": {},
   "outputs": [
    {
     "data": {
      "text/plain": [
       "\" \\n    1) Web Scraping- Web scraping is an method in which we obtain large amounts of data from websites. This process is fully automated.\\n    \\n    2) When we want lot's of data from a awebsite which is in a unstructured manner. In such cases web scraping is used.It helps to innovate\\n       lot's of things. Also the data which is being generated at this scale gets some usage for more improvised user experience.\\n       \\n    3) Web scrapping is used in areas such as-\\n            a)Market Research,\\n            b)Sentimental Analysis.\\n            c)Email Marketing. \""
      ]
     },
     "execution_count": 1,
     "metadata": {},
     "output_type": "execute_result"
    }
   ],
   "source": [
    "#Que1\n",
    "\"\"\" \n",
    "    1) Web Scraping- Web scraping is an method in which we obtain large amounts of data from websites. This process is fully automated.\n",
    "    \n",
    "    2) When we want lot's of data from a awebsite which is in a unstructured manner. In such cases web scraping is used.It helps to innovate\n",
    "       lot's of things. Also the data which is being generated at this scale gets some usage for more improvised user experience.\n",
    "       \n",
    "    3) Web scrapping is used in areas such as-\n",
    "            a)Market Research,\n",
    "            b)Sentimental Analysis.\n",
    "            c)Email Marketing. \"\"\""
   ]
  },
  {
   "cell_type": "code",
   "execution_count": 2,
   "id": "2eac950d-2825-4425-a0af-c12096990c00",
   "metadata": {},
   "outputs": [
    {
     "data": {
      "text/plain": [
       "'\\n    The different methods used for web scraping are-\\n            1) Copy pasting.\\n            2) DOM parsing\\n            3) HTTP programming.\\n            4) Text grepping.\\n            5) Web scarping software. '"
      ]
     },
     "execution_count": 2,
     "metadata": {},
     "output_type": "execute_result"
    }
   ],
   "source": [
    "#Que2\n",
    "\"\"\"\n",
    "    The different methods used for web scraping are-\n",
    "            1) Copy pasting.\n",
    "            2) DOM parsing\n",
    "            3) HTTP programming.\n",
    "            4) Text grepping.\n",
    "            5) Web scarping software. \"\"\""
   ]
  },
  {
   "cell_type": "code",
   "execution_count": 3,
   "id": "ece00409-b045-452f-a5bd-c8d335bd2d5a",
   "metadata": {},
   "outputs": [
    {
     "data": {
      "text/plain": [
       "'\\n    1) Beautiful soup- Beautiful Soup is a python package which parses the unwanted data. It gives us an more cleaner data by organising and \\n                    formatting data. It fixes the HTML and makes it available for further usage.\\n                    \\n    2) Beautiful soup is used in web scraping where the HTML data obatined from websites is messy in such cases beautiful soup helps to the\\n       data in a more better readable manner. '"
      ]
     },
     "execution_count": 3,
     "metadata": {},
     "output_type": "execute_result"
    }
   ],
   "source": [
    "#Que3\n",
    "\"\"\"\n",
    "    1) Beautiful soup- Beautiful Soup is a python package which parses the unwanted data. It gives us an more cleaner data by organising and \n",
    "                    formatting data. It fixes the HTML and makes it available for further usage.\n",
    "                    \n",
    "    2) Beautiful soup is used in web scraping where the HTML data obatined from websites is messy in such cases beautiful soup helps to the\n",
    "       data in a more better readable manner. \"\"\""
   ]
  },
  {
   "cell_type": "code",
   "execution_count": 4,
   "id": "3dc0a9d3-8145-4782-bf05-9cbd996a5029",
   "metadata": {},
   "outputs": [
    {
     "data": {
      "text/plain": [
       "'\\n    Flask is used as an framework in this project upon which the web application is built. Flask is scalable, flexible, lightweight\\n    which makes us more reliable to work upon in this project. It gets us to implement our REST architecture which is the main whole and sole \\n    of this project. '"
      ]
     },
     "execution_count": 4,
     "metadata": {},
     "output_type": "execute_result"
    }
   ],
   "source": [
    "#Que4\n",
    "\"\"\"\n",
    "    Flask is used as an framework in this project upon which the web application is built. Flask is scalable, flexible, lightweight\n",
    "    which makes us more reliable to work upon in this project. It gets us to implement our REST architecture which is the main whole and sole \n",
    "    of this project. \"\"\""
   ]
  },
  {
   "cell_type": "code",
   "execution_count": 5,
   "id": "e91199f1-72fc-4050-a133-5424527eba04",
   "metadata": {},
   "outputs": [
    {
     "data": {
      "text/plain": [
       "\"\\n    1) The AWS services used in this project are 'Elastic Beanstalk' and 'CodePipeline'.\\n    \\n    2) Elastic Beanstalk- Elastic beanstalk is a pre-configured EC2 server that can directly take up your application code and environment\\n                          configurations and use it to automatically provision and deploy the required resources within AWS to run the web \\n                          application.\\n    \\n    3) CodePipeline- AWS CodePipeline is a continuous delivery service you can use to model, visualize, and automate the steps required \\n                     to release your software. You can quickly model and configure the different stages of a software release process. \\n                     CodePipeline automates the steps required to release your software changes continuously. \""
      ]
     },
     "execution_count": 5,
     "metadata": {},
     "output_type": "execute_result"
    }
   ],
   "source": [
    "#Que5\n",
    "\"\"\"\n",
    "    1) The AWS services used in this project are 'Elastic Beanstalk' and 'CodePipeline'.\n",
    "    \n",
    "    2) Elastic Beanstalk- Elastic beanstalk is a pre-configured EC2 server that can directly take up your application code and environment\n",
    "                          configurations and use it to automatically provision and deploy the required resources within AWS to run the web \n",
    "                          application.\n",
    "    \n",
    "    3) CodePipeline- AWS CodePipeline is a continuous delivery service you can use to model, visualize, and automate the steps required \n",
    "                     to release your software. You can quickly model and configure the different stages of a software release process. \n",
    "                     CodePipeline automates the steps required to release your software changes continuously. \"\"\""
   ]
  },
  {
   "cell_type": "code",
   "execution_count": null,
   "id": "2e4430e4-c79e-4182-b04e-3d217d4f526d",
   "metadata": {},
   "outputs": [],
   "source": []
  }
 ],
 "metadata": {
  "kernelspec": {
   "display_name": "Python 3 (ipykernel)",
   "language": "python",
   "name": "python3"
  },
  "language_info": {
   "codemirror_mode": {
    "name": "ipython",
    "version": 3
   },
   "file_extension": ".py",
   "mimetype": "text/x-python",
   "name": "python",
   "nbconvert_exporter": "python",
   "pygments_lexer": "ipython3",
   "version": "3.10.8"
  }
 },
 "nbformat": 4,
 "nbformat_minor": 5
}
