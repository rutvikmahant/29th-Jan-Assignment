{
 "cells": [
  {
   "cell_type": "code",
   "execution_count": 1,
   "id": "7c4a35ca-7f7a-4409-a235-45ee2504c9bb",
   "metadata": {},
   "outputs": [
    {
     "data": {
      "text/plain": [
       "\" open() function is used to open a file. We can open files in different modes such as:\\n    1) read mode 'r'= used to open a file for reading.\\n    2) write mode 'w'= used to open a file for writing by truncating the file.\\n    3) new file mode 'x'= used to create a new file and open it for writing.\\n    4) append mode 'a'= used to open the file for writing appending to the end of eisting file if exists.\\n    5) binary mode 'b'= used to open files related to binary data with the read and write mode.\\n    6) text mode 't'= used to open text files. It is a default mode.\\n    7) open disk file mode '+'= used to open a disk file and update it\\n    8) universal new line mode 'U'= used to open files and add new line avoiding to appen into existing file. \""
      ]
     },
     "execution_count": 1,
     "metadata": {},
     "output_type": "execute_result"
    }
   ],
   "source": [
    "#Que1\n",
    "\"\"\" open() function is used to open a file. We can open files in different modes such as:\n",
    "    1) read mode 'r'= used to open a file for reading.\n",
    "    2) write mode 'w'= used to open a file for writing by truncating the file.\n",
    "    3) new file mode 'x'= used to create a new file and open it for writing.\n",
    "    4) append mode 'a'= used to open the file for writing appending to the end of eisting file if exists.\n",
    "    5) binary mode 'b'= used to open files related to binary data with the read and write mode.\n",
    "    6) text mode 't'= used to open text files. It is a default mode.\n",
    "    7) open disk file mode '+'= used to open a disk file and update it\n",
    "    8) universal new line mode 'U'= used to open files and add new line avoiding to appen into existing file. \"\"\""
   ]
  },
  {
   "cell_type": "code",
   "execution_count": 2,
   "id": "99832a49-6b85-4d0d-a47f-48235bc416ff",
   "metadata": {},
   "outputs": [
    {
     "data": {
      "text/plain": [
       "\" When open a file using open() function in any type of mode. The file can't be accessed by other programs until it is closed.\\n    Hence we use close() function to close the file. It is a standard practice to close an opened file as \\n    a closed file reduces the risk of being unwarrantedly modified or read. \""
      ]
     },
     "execution_count": 2,
     "metadata": {},
     "output_type": "execute_result"
    }
   ],
   "source": [
    "#Que2\n",
    "\"\"\" When open a file using open() function in any type of mode. The file can't be accessed by other programs until it is closed.\n",
    "    Hence we use close() function to close the file. It is a standard practice to close an opened file as \n",
    "    a closed file reduces the risk of being unwarrantedly modified or read. \"\"\""
   ]
  },
  {
   "cell_type": "code",
   "execution_count": 3,
   "id": "7d07308a-b81a-451f-b253-d8bf33d3d183",
   "metadata": {},
   "outputs": [
    {
     "name": "stdout",
     "output_type": "stream",
     "text": [
      "I want to become a Data Scientist\n"
     ]
    }
   ],
   "source": [
    "#Que3\n",
    "a  = open(\"file1.txt\",'w')\n",
    "a.write(\"I want to become a Data Scientist\")\n",
    "a.close()\n",
    "a  = open(\"file1.txt\",'r')\n",
    "print(a.read())"
   ]
  },
  {
   "cell_type": "code",
   "execution_count": 4,
   "id": "2acbcafa-00fb-48f0-bc63-db94f5ef1b44",
   "metadata": {},
   "outputs": [
    {
     "name": "stdout",
     "output_type": "stream",
     "text": [
      "read output: I want to become a Data Scientist\n",
      "I want to become a Data Analyst\n",
      "readline output: I want to become a Data Scientist\n",
      "\n",
      "readline output: I want to become a Data Analyst\n",
      "readlines output: ['I want to become a Data Scientist\\n', 'I want to become a Data Analyst']\n"
     ]
    }
   ],
   "source": [
    "#Que4\n",
    "\"\"\"\n",
    "   1) read(): This read and returns a string of characters inside file. If read(n) is used then is gives string of n characters.\n",
    "   2) readline(): This return lines of the files. It can can be used multiple times to get the next lines of the file.\n",
    "   3) readlines(): This returns us a list of strings. Each string is of a single line in the file. \"\"\"\n",
    "\n",
    "\n",
    "# a) read() example:\n",
    "with open(\"file11.txt\",'w') as a:\n",
    "    a.write(\"I want to become a Data Scientist\\n\")\n",
    "    a.write(\"I want to become a Data Analyst\")\n",
    "with open(\"file11.txt\",'r') as a:\n",
    "    print(\"read output:\",a.read())\n",
    "    \n",
    "# b) readline() example:\n",
    "with open(\"file11.txt\",'r') as a:\n",
    "    print(\"readline output:\",a.readline())\n",
    "    print(\"readline output:\",a.readline())\n",
    "\n",
    "# c) readlines() example:\n",
    "with open(\"file11.txt\",'r') as a:\n",
    "    print(\"readlines output:\",a.readlines())"
   ]
  },
  {
   "cell_type": "code",
   "execution_count": 5,
   "id": "76c76aaa-69b5-4e41-8ae3-692b01f207c2",
   "metadata": {},
   "outputs": [
    {
     "name": "stdout",
     "output_type": "stream",
     "text": [
      "Without with statement\n",
      "Using with statement\n"
     ]
    }
   ],
   "source": [
    "#Que5\n",
    "\"\"\" with statement is used with open() to open file in any of the mode and assign alias to it. \n",
    "    Further we can use the alias to perform operations on the opened file.\n",
    "    \n",
    "    If we open a file by assigning a variable then we have to close the file. Unless the file is closed it can't be accessed by another program.\n",
    "    By using the with statement we don't have to close the file, with statement takes care of closing the file. Which makes using with statement\n",
    "    a reliable and easy way to code. \"\"\"\n",
    "# example of open file without with statement.\n",
    "a = open(\"file1\",'w')\n",
    "a.write(\"Without with statement\")\n",
    "a.close\n",
    "a = open(\"file1\",'r')\n",
    "print(a.read())\n",
    "\n",
    "# example of open file using with statement.\n",
    "with open(\"file1.txt\",'w') as a:\n",
    "    a.write(\"Using with statement\")\n",
    "with open(\"file1.txt\",'r') as a:\n",
    "    print(a.read())"
   ]
  },
  {
   "cell_type": "code",
   "execution_count": 6,
   "id": "6c65fe07-f4f5-4f7f-895e-819dd4ed571f",
   "metadata": {},
   "outputs": [
    {
     "name": "stdout",
     "output_type": "stream",
     "text": [
      "Example of write function\n",
      "Example of writelines function.\n"
     ]
    }
   ],
   "source": [
    "#Que6\n",
    "\"\"\" \n",
    "    1) write() function: Write function helps us to write into the opened file. For this the file must be open in write mode or append mode.\n",
    "    2) writelines() function: Writelines function helps us to write items of a list into the opened file. For this the file must be open in \n",
    "       write mode or append mode. \"\"\"\n",
    "# a) write() example:\n",
    "with open(\"file12.txt\",'w') as a:\n",
    "    a.write(\"Example of write function\")\n",
    "with open(\"file12.txt\",'r') as a:\n",
    "    print(a.read())\n",
    "\n",
    "# b) writelines() example:\n",
    "with open(\"file12.txt\",'w') as a:\n",
    "    a.writelines([\"Example \",\"of \",\"writelines \",\"function.\"])\n",
    "with open(\"file12.txt\",'r') as a:\n",
    "    print(a.read())"
   ]
  },
  {
   "cell_type": "code",
   "execution_count": null,
   "id": "07d1a37d-f484-44df-b925-7d67ec9c84df",
   "metadata": {},
   "outputs": [],
   "source": []
  }
 ],
 "metadata": {
  "kernelspec": {
   "display_name": "Python 3 (ipykernel)",
   "language": "python",
   "name": "python3"
  },
  "language_info": {
   "codemirror_mode": {
    "name": "ipython",
    "version": 3
   },
   "file_extension": ".py",
   "mimetype": "text/x-python",
   "name": "python",
   "nbconvert_exporter": "python",
   "pygments_lexer": "ipython3",
   "version": "3.10.8"
  }
 },
 "nbformat": 4,
 "nbformat_minor": 5
}
