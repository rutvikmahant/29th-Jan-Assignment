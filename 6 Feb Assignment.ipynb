{
 "cells": [
  {
   "cell_type": "code",
   "execution_count": 43,
   "id": "4c2e9472-ce14-4dc3-9d85-e1ba763c3500",
   "metadata": {},
   "outputs": [
    {
     "name": "stdout",
     "output_type": "stream",
     "text": [
      "0\n"
     ]
    }
   ],
   "source": [
    "#Que1\n",
    "def flat_list_product(lst):\n",
    "    flat_list = []\n",
    "    for item in lst:\n",
    "        if isinstance(item, int):\n",
    "            flat_list.append(item)\n",
    "        elif isinstance(item, float):\n",
    "            flat_list.append(item)\n",
    "        elif isinstance(item, list):\n",
    "            flat_list.extend(flat_list_product(item))\n",
    "        elif isinstance(item, tuple):\n",
    "            flat_list.extend(flat_list_product(item))\n",
    "        elif isinstance(item, dict):\n",
    "            for key, value in item.items():\n",
    "                if isinstance(key, int) or isinstance(key, float):\n",
    "                    flat_list.append(key)\n",
    "                if isinstance(value, int) or isinstance(value, float):\n",
    "                    flat_list.append(value)\n",
    "                elif isinstance(value, list):\n",
    "                    flat_list.extend(flat_list_product(value))\n",
    "                elif isinstance(value, tuple):\n",
    "                    flat_list.extend(flat_list_product(value))\n",
    "                elif isinstance(value, dict):\n",
    "                    flat_list.extend(flat_list_product(value))\n",
    "    return flat_list\n",
    "\n",
    "list1 = [1,2,3,4, [44,55,66, True], False, (34,56,78,89,34), {1,2,3,3,2,1}, {1:34, \"key2\": [55, 67, 78, 89], 4: (45,\n",
    "22, 61, 34)}, [56, 'data science'], 'Machine Learning']\n",
    "flat_list = flat_list_product(list1)\n",
    "product = 1\n",
    "for num in flat_list:\n",
    "    product *= num\n",
    "print(product)\n"
   ]
  },
  {
   "cell_type": "code",
   "execution_count": null,
   "id": "b3d4e469-072d-4465-9afe-15393dd823a6",
   "metadata": {},
   "outputs": [],
   "source": [
    "#Que2\n",
    "class encrypt:\n",
    "    def __init__(self,a):\n",
    "        self.a=a\n",
    "    def enc(self,*args):\n",
    "        b = \"\"\n",
    "        for i in a:\n",
    "            if i!=\"a\" and i!=\"b\" and i!=\"c\" and i!=\" \":\n",
    "                b = b + i\n",
    "            elif i==\"a\":\n",
    "                b = b + \"z\"\n",
    "            elif i==\"b\":\n",
    "                b = b + \"y\"\n",
    "            elif i==\"c\":\n",
    "                b = b + \"x\"\n",
    "            elif i==\" \":\n",
    "                b = b + \"$\"\n",
    "        print(b)\n",
    "\n",
    "x = \"I want to become a Data Scientist.\"\n",
    "c=encrypt(x)\n",
    "c.enc()"
   ]
  }
 ],
 "metadata": {
  "kernelspec": {
   "display_name": "Python 3 (ipykernel)",
   "language": "python",
   "name": "python3"
  },
  "language_info": {
   "codemirror_mode": {
    "name": "ipython",
    "version": 3
   },
   "file_extension": ".py",
   "mimetype": "text/x-python",
   "name": "python",
   "nbconvert_exporter": "python",
   "pygments_lexer": "ipython3",
   "version": "3.10.8"
  }
 },
 "nbformat": 4,
 "nbformat_minor": 5
}
