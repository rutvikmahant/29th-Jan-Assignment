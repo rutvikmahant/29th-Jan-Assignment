{
 "cells": [
  {
   "cell_type": "code",
   "execution_count": 1,
   "id": "bb8f81ab-d1a9-4fbd-aa24-5ec0d2c3419b",
   "metadata": {},
   "outputs": [
    {
     "data": {
      "text/plain": [
       "\" Multithreading runs multiple threads simultaneously within a single process. It ensures effective utilization of computer system resources.\\n    Which makes applications more responsive. 'threading' module is used to perform multithreading. \""
      ]
     },
     "execution_count": 1,
     "metadata": {},
     "output_type": "execute_result"
    }
   ],
   "source": [
    "#Que1\n",
    "\"\"\" Multithreading runs multiple threads simultaneously within a single process. It ensures effective utilization of computer system resources.\n",
    "    Which makes applications more responsive. 'threading' module is used to perform multithreading. \"\"\""
   ]
  },
  {
   "cell_type": "code",
   "execution_count": 2,
   "id": "d6c027c3-cd6b-4158-a7ff-4a7613d7ab0c",
   "metadata": {},
   "outputs": [
    {
     "data": {
      "text/plain": [
       "\" We need to import threading module in python use multithreading in python. A threading module is made up of thread class which is made upto \\n    create thread in python. Methods provided by threading module are:\\n    1)activeCount()- Returns count of active thread objects.\\n    2)currentThread()- Returns number of thread objects in caller's thread control.\\n    3)enumrate()- Returns list of all active threads. \""
      ]
     },
     "execution_count": 2,
     "metadata": {},
     "output_type": "execute_result"
    }
   ],
   "source": [
    "#Que2\n",
    "\"\"\" We need to import threading module in python use multithreading in python. A threading module is made up of thread class which is made upto \n",
    "    create thread in python. Methods provided by threading module are:\n",
    "    1)activeCount()- Returns count of active thread objects.\n",
    "    2)currentThread()- Returns number of thread objects in caller's thread control.\n",
    "    3)enumrate()- Returns list of all active threads. \"\"\""
   ]
  },
  {
   "cell_type": "code",
   "execution_count": 3,
   "id": "81a283e5-40b9-4cc7-9d98-adf2375ec4ff",
   "metadata": {},
   "outputs": [
    {
     "data": {
      "text/plain": [
       "\"\\n    1)run()- It is used to define thread's activity.\\n    2)start()- It initiates activity of a thread by calling run method.\\n    3)join()- It is used to block execution another code until thread terminates.\\n    4)isalive()- It is used to track whether a thread is still execution or not. \""
      ]
     },
     "execution_count": 3,
     "metadata": {},
     "output_type": "execute_result"
    }
   ],
   "source": [
    "#Que3\n",
    "\"\"\"\n",
    "    1)run()- It is used to define thread's activity.\n",
    "    2)start()- It initiates activity of a thread by calling run method.\n",
    "    3)join()- It is used to block execution another code until thread terminates.\n",
    "    4)isalive()- It is used to track whether a thread is still execution or not. \"\"\""
   ]
  },
  {
   "cell_type": "code",
   "execution_count": 4,
   "id": "c9eec1e8-abc8-462a-aa4b-762dd024ff79",
   "metadata": {},
   "outputs": [
    {
     "name": "stdout",
     "output_type": "stream",
     "text": [
      "Square of 0 is 0\n",
      "Square of 1 is 1\n",
      "Square of 2 is 4\n",
      "Square of 3 is 9\n",
      "Square of 4 is 16\n",
      "Square of 5 is 25\n",
      "Square of 6 is 36\n",
      "Square of 7 is 49\n",
      "Square of 8 is 64\n",
      "Square of 9 is 81\n",
      "Cube of 0 is 0\n",
      "Cube of 1 is 1\n",
      "Cube of 2 is 8\n",
      "Cube of 3 is 27\n",
      "Cube of 4 is 64\n",
      "Cube of 5 is 125\n",
      "Cube of 6 is 216\n",
      "Cube of 7 is 343\n",
      "Cube of 8 is 512\n",
      "Cube of 9 is 729\n"
     ]
    }
   ],
   "source": [
    "#Que4\n",
    "# Thread for list of squares\n",
    "import threading\n",
    "def square(num):\n",
    "    print(\"Square of %d is %d\"%(num,num**2))\n",
    "thread = [threading.Thread(target = square,args=(i,)) for i in range(10)]\n",
    "for t in thread:\n",
    "    t.start()\n",
    "    t.join()\n",
    "    \n",
    "# Thread for list of cube\n",
    "def cube(num):\n",
    "    print(\"Cube of %d is %d\"%(num,num**3))\n",
    "thread = [threading.Thread(target = cube,args=(i,)) for i in range(10)]\n",
    "for t in thread:\n",
    "    t.start()\n",
    "    t.join()"
   ]
  },
  {
   "cell_type": "code",
   "execution_count": 5,
   "id": "0e11ac7a-4a81-4ef9-a30a-5b0624fa88f5",
   "metadata": {},
   "outputs": [
    {
     "data": {
      "text/plain": [
       "' \\n    Advantages:\\n                1. Due to independence of threads the user is not blocked.\\n                2. As the threads are executed parallel hence resources are used efficiently.\\n                3. Multiproccesor machines are used more efficiently by multithreading..\\n        \\n    Disavantages:\\n                1. As the number of threads increase the complexity also increases.\\n                2. Multiple threads utlilise same resources hence there must be proper synchronization.\\n                3. The process of constructing and synchronizing the threads is very intensive. '"
      ]
     },
     "execution_count": 5,
     "metadata": {},
     "output_type": "execute_result"
    }
   ],
   "source": [
    "#Que5\n",
    "\"\"\" \n",
    "    Advantages:\n",
    "                1. Due to independence of threads the user is not blocked.\n",
    "                2. As the threads are executed parallel hence resources are used efficiently.\n",
    "                3. Multiproccesor machines are used more efficiently by multithreading..\n",
    "        \n",
    "    Disavantages:\n",
    "                1. As the number of threads increase the complexity also increases.\n",
    "                2. Multiple threads utlilise same resources hence there must be proper synchronization.\n",
    "                3. The process of constructing and synchronizing the threads is very intensive. \"\"\""
   ]
  },
  {
   "cell_type": "code",
   "execution_count": 6,
   "id": "3e2f5140-931b-4967-b824-524652967fc8",
   "metadata": {},
   "outputs": [
    {
     "data": {
      "text/plain": [
       "\" 1)Deadlock conditions- \\n                        Deadlock condition occur when a thread has to held for another resource to be accessed as it is been accessed by another thread and remains waiting \\n                        with current variable, if this vairable is needed by the other thread then at also cannot be access. Which creates another waiting condition and this \\n                        won't end which causes a deadlock. The best way to avoid this is to avoid crossing of proccess and need to lock anything as much as we can.\\n    \\n   2) Race conditions- \\n                       Race condition occurs when two threads try to access shared variables simultaneously. Then both the variables race to see which thread writes the value of \\n                       variable last. The value writteen at last is preserved as the previous ones are written of by the latest one. To prevent this lock class is used. This class \\n                       prevents race condition by making value of the varaible accessable for threads but not updating it as per their output. The variable accessed is updated to \\n                       previous values irrespective of thread result. \""
      ]
     },
     "execution_count": 6,
     "metadata": {},
     "output_type": "execute_result"
    }
   ],
   "source": [
    "#Que6\n",
    "\"\"\" 1)Deadlock conditions- \n",
    "                        Deadlock condition occur when a thread has to held for another resource to be accessed as it is been accessed by another thread and remains waiting \n",
    "                        with current variable, if this vairable is needed by the other thread then at also cannot be access. Which creates another waiting condition and this \n",
    "                        won't end which causes a deadlock. The best way to avoid this is to avoid crossing of proccess and need to lock anything as much as we can.\n",
    "    \n",
    "   2) Race conditions- \n",
    "                       Race condition occurs when two threads try to access shared variables simultaneously. Then both the variables race to see which thread writes the value of \n",
    "                       variable last. The value writteen at last is preserved as the previous ones are written of by the latest one. To prevent this lock class is used. This class \n",
    "                       prevents race condition by making value of the varaible accessable for threads but not updating it as per their output. The variable accessed is updated to \n",
    "                       previous values irrespective of thread result. \"\"\""
   ]
  },
  {
   "cell_type": "code",
   "execution_count": null,
   "id": "060b1060-c0f6-4e7f-8159-01cbf47919b0",
   "metadata": {},
   "outputs": [],
   "source": []
  }
 ],
 "metadata": {
  "kernelspec": {
   "display_name": "Python 3 (ipykernel)",
   "language": "python",
   "name": "python3"
  },
  "language_info": {
   "codemirror_mode": {
    "name": "ipython",
    "version": 3
   },
   "file_extension": ".py",
   "mimetype": "text/x-python",
   "name": "python",
   "nbconvert_exporter": "python",
   "pygments_lexer": "ipython3",
   "version": "3.10.8"
  }
 },
 "nbformat": 4,
 "nbformat_minor": 5
}
