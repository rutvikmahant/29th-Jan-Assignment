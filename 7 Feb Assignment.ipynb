{
 "cells": [
  {
   "cell_type": "code",
   "execution_count": 9,
   "id": "4a3db2e9-62c4-40b8-93f7-086c86f76e08",
   "metadata": {},
   "outputs": [
    {
     "name": "stdin",
     "output_type": "stream",
     "text": [
      "Enter Password RuTav@2#f\n"
     ]
    },
    {
     "name": "stdout",
     "output_type": "stream",
     "text": [
      "Invalid Password\n"
     ]
    }
   ],
   "source": [
    "#Que1\n",
    "class password:\n",
    "    def __init__(self,aa):\n",
    "        self.aa=aa\n",
    "    def check(self,*args):\n",
    "        a=list(self.aa)\n",
    "        for i in a:\n",
    "            count1,count2,count3,count4,count5=0,0,0,0,0\n",
    "            if i==i.upper() and i.isalpha()==True:\n",
    "                count1 +=1\n",
    "                continue\n",
    "            elif i == i.lower() and i.isalpha() == True :\n",
    "                count2 += 1\n",
    "                continue\n",
    "            elif i.isdigit() == True:\n",
    "                count3 += 1\n",
    "                continue\n",
    "            elif i.isalnum() == False:\n",
    "                count4 += 1\n",
    "                continue\n",
    "        if count1>=2 and count2>=2 and count3>=1 and count4==3 and len(a)==10:\n",
    "            print(\"Valid Password\")\n",
    "        else:\n",
    "            print(\"Invalid Password\")\n",
    "b = input(\"Enter Password\")\n",
    "passs = password(b)\n",
    "passs.check()    "
   ]
  },
  {
   "cell_type": "code",
   "execution_count": 10,
   "id": "fda4445f-176c-4005-be21-e7289b8f97bd",
   "metadata": {},
   "outputs": [
    {
     "name": "stdout",
     "output_type": "stream",
     "text": [
      "Matched\n"
     ]
    }
   ],
   "source": [
    "#Que2\n",
    "# a\n",
    "a1 = \"Abcd\"\n",
    "a = lambda x: \"Matched\" if x[0]==\"A\" else \" \"\n",
    "print(a(a1))"
   ]
  },
  {
   "cell_type": "code",
   "execution_count": 11,
   "id": "b09a2d7b-3dd6-4ed3-b35d-9c1451c23057",
   "metadata": {},
   "outputs": [
    {
     "name": "stdout",
     "output_type": "stream",
     "text": [
      "Numeric string\n"
     ]
    }
   ],
   "source": [
    "# b\n",
    "a = \"12234\"\n",
    "b = lambda x: \"Numeric string\" if x.isnumeric()==True else \"\"\n",
    "print(b(a))"
   ]
  },
  {
   "cell_type": "code",
   "execution_count": 12,
   "id": "50ed89e1-30da-4e0c-b551-b70ce41423f3",
   "metadata": {},
   "outputs": [
    {
     "name": "stdout",
     "output_type": "stream",
     "text": [
      "[('grapes', 1000), ('mango', 99), ('orange', 80)]\n"
     ]
    }
   ],
   "source": [
    "# c\n",
    "a = [(\"mango\",99),(\"orange\",80), (\"grapes\", 1000)]\n",
    "def sort1(x):\n",
    "    x.sort(key=lambda x: x[0])\n",
    "    return x\n",
    "print(sort1(a))"
   ]
  },
  {
   "cell_type": "code",
   "execution_count": 13,
   "id": "77055418-efa8-447c-9e19-acbd33f042e4",
   "metadata": {},
   "outputs": [
    {
     "name": "stdout",
     "output_type": "stream",
     "text": [
      "[1, 4, 9, 16, 25, 36, 49, 64, 81, 100]\n"
     ]
    }
   ],
   "source": [
    "# d\n",
    "a = [i*i for i in range(1,11)]\n",
    "print(a)"
   ]
  },
  {
   "cell_type": "code",
   "execution_count": 14,
   "id": "b44c41a6-8377-47c2-b0e8-d04788090028",
   "metadata": {},
   "outputs": [
    {
     "name": "stdout",
     "output_type": "stream",
     "text": [
      "[1, 4, 9, 16, 25, 36, 49, 64, 81, 100]\n"
     ]
    }
   ],
   "source": [
    "# e\n",
    "a = range(1,11)\n",
    "b = map(lambda x:x**2,a)\n",
    "print(list(b))"
   ]
  },
  {
   "cell_type": "code",
   "execution_count": 15,
   "id": "9cdd9720-2381-4447-851c-c23fe231d1e4",
   "metadata": {},
   "outputs": [
    {
     "name": "stdin",
     "output_type": "stream",
     "text": [
      "Enter a number: 67\n"
     ]
    },
    {
     "name": "stdout",
     "output_type": "stream",
     "text": [
      "Odd\n"
     ]
    }
   ],
   "source": [
    "# f\n",
    "a = int(input(\"Enter a number:\"))\n",
    "b = lambda x:\"Even\" if x%2==0 else \"Odd\"\n",
    "print(b(a))"
   ]
  },
  {
   "cell_type": "code",
   "execution_count": 16,
   "id": "a94c9061-b754-45d8-8d82-892ba2d656c9",
   "metadata": {},
   "outputs": [
    {
     "name": "stdout",
     "output_type": "stream",
     "text": [
      "[1, 3, 5, 7, 9]\n"
     ]
    }
   ],
   "source": [
    "#g\n",
    "a = [1,2,3,4,5,6,7,8,9,10]\n",
    "b = filter(lambda x: x%2!=0,a)\n",
    "print(list(b))\n"
   ]
  },
  {
   "cell_type": "code",
   "execution_count": 17,
   "id": "f298a447-f3a0-4eb0-8c99-9da72153da86",
   "metadata": {},
   "outputs": [
    {
     "name": "stdout",
     "output_type": "stream",
     "text": [
      "Positive Integers: [1, 2, 3, 4, 5, 6, 0]\n",
      "Negative Integers: [-1, -2, -3, -4, -5]\n"
     ]
    }
   ],
   "source": [
    "# h\n",
    "a = [1,2,3,4,5,6,-1,-2,-3,-4,-5,0]\n",
    "b = filter(lambda x: x>=0,a)\n",
    "c = filter(lambda x: x<0,a)\n",
    "print(\"Positive Integers:\",list(b))\n",
    "print(\"Negative Integers:\",list(c))"
   ]
  },
  {
   "cell_type": "code",
   "execution_count": null,
   "id": "e2884b3f-ed6d-43a7-8175-fae27bf1a84a",
   "metadata": {},
   "outputs": [],
   "source": []
  }
 ],
 "metadata": {
  "kernelspec": {
   "display_name": "Python 3 (ipykernel)",
   "language": "python",
   "name": "python3"
  },
  "language_info": {
   "codemirror_mode": {
    "name": "ipython",
    "version": 3
   },
   "file_extension": ".py",
   "mimetype": "text/x-python",
   "name": "python",
   "nbconvert_exporter": "python",
   "pygments_lexer": "ipython3",
   "version": "3.10.8"
  }
 },
 "nbformat": 4,
 "nbformat_minor": 5
}
