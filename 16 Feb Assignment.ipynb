{
 "cells": [
  {
   "cell_type": "code",
   "execution_count": 1,
   "id": "3da49891-7b1b-4641-b806-b176d1a12937",
   "metadata": {},
   "outputs": [
    {
     "data": {
      "text/plain": [
       "' \\n    DATABASE-  Database is an organised collection of data. Which make is easy to access and manage. Data is stored here in theform of rows, \\n               columns and index to makes it easier to perform operations.\\n               \\n    SQL-\\n        1) SQL databases are primarily called as Relational databases(RDBMS).\\n        2) Static or predefined schema is used in these databases.\\n        3) SQL is best suited for complex queries and is vertically scalable.\\n        4) SQL databases are table-based.\\n        5) MySQL, MSSQL, Oracle are the example of SQL database.\\n    NOSQL-\\n        1) NOSQL database are called as non-relational databases.\\n        2) Dynamic schema is used in NOSQL.\\n        3) NOSQL is not a best option for complex queries. It is horizontally scalable.\\n        4) NoSQL databases are either key-value pairs, document-based, graph based, etc.\\n        5) MongoDB, Cassandra, Hbase are the example of nosql database. '"
      ]
     },
     "execution_count": 1,
     "metadata": {},
     "output_type": "execute_result"
    }
   ],
   "source": [
    "#Que1\n",
    "\"\"\" \n",
    "    DATABASE-  Database is an organised collection of data. Which make is easy to access and manage. Data is stored here in theform of rows, \n",
    "               columns and index to makes it easier to perform operations.\n",
    "               \n",
    "    SQL-\n",
    "        1) SQL databases are primarily called as Relational databases(RDBMS).\n",
    "        2) Static or predefined schema is used in these databases.\n",
    "        3) SQL is best suited for complex queries and is vertically scalable.\n",
    "        4) SQL databases are table-based.\n",
    "        5) MySQL, MSSQL, Oracle are the example of SQL database.\n",
    "    NOSQL-\n",
    "        1) NOSQL database are called as non-relational databases.\n",
    "        2) Dynamic schema is used in NOSQL.\n",
    "        3) NOSQL is not a best option for complex queries. It is horizontally scalable.\n",
    "        4) NoSQL databases are either key-value pairs, document-based, graph based, etc.\n",
    "        5) MongoDB, Cassandra, Hbase are the example of nosql database. \"\"\""
   ]
  },
  {
   "cell_type": "code",
   "execution_count": 2,
   "id": "0a80a992-bcd4-40c1-b660-2c13f91f7379",
   "metadata": {},
   "outputs": [
    {
     "data": {
      "text/plain": [
       "\"\\n    1) DDL- It stands for data definition language.  It consists of sql commands that can be used to create or modify the structure of database \\n            objects in the database.\\n            \\n            It consists of sql commands such as-\\n            a) CREATE- It is used to create a database or it's objects.\\n                       Example in SQL-- CREATE TABLE table1( col1 INT, col2 VARCHAR(50), col3 FLOAT)\\n                       \\n            b) DROP- It is used to delete objects from a database.\\n                     Example in SQL-- DROP TABLE table1;\\n                     \\n            c) ALTER- It is used to alter the structure of the database.\\n                      Example in SQL-- ALTER TABLE table1 ADD(col4 INT, col5 VARCHAR(40));\\n                      \\n            d) TRUNCATE- It is used to remove all the records from a table.\\n                         Example in SQL-- TRUNCATE TABLE table1; \""
      ]
     },
     "execution_count": 2,
     "metadata": {},
     "output_type": "execute_result"
    }
   ],
   "source": [
    "#Que2\n",
    "\"\"\"\n",
    "    1) DDL- It stands for data definition language.  It consists of sql commands that can be used to create or modify the structure of database \n",
    "            objects in the database.\n",
    "            \n",
    "            It consists of sql commands such as-\n",
    "            a) CREATE- It is used to create a database or it's objects.\n",
    "                       Example in SQL-- CREATE TABLE table1( col1 INT, col2 VARCHAR(50), col3 FLOAT)\n",
    "                       \n",
    "            b) DROP- It is used to delete objects from a database.\n",
    "                     Example in SQL-- DROP TABLE table1;\n",
    "                     \n",
    "            c) ALTER- It is used to alter the structure of the database.\n",
    "                      Example in SQL-- ALTER TABLE table1 ADD(col4 INT, col5 VARCHAR(40));\n",
    "                      \n",
    "            d) TRUNCATE- It is used to remove all the records from a table.\n",
    "                         Example in SQL-- TRUNCATE TABLE table1; \"\"\""
   ]
  },
  {
   "cell_type": "code",
   "execution_count": 3,
   "id": "8aaf3b18-3570-4d7c-af6f-0b07e377b640",
   "metadata": {},
   "outputs": [
    {
     "data": {
      "text/plain": [
       "\" \\n    1) DML- It stands for data manipulative language. It consists of commands which are used to manipulate data present inside a database.\\n            \\n            It consists of sql commands such as-\\n            a) INSERT : INSERT is used to enter data into table.\\n                        Example in SQL- INSERT INTO table1 VALUES ('sql','query','example');\\n            b) UPDATE: UPDATE is used to update data into a table. SET is used to set new valus and WHERE is used to select row to be updated.\\n                       Example in SQL- UPDATE table1 SET NAME = 'SALMAN', CLASS = '12' WHERE ID='2022';\\n            c) DELETE : DELETE is used to delete records from a table. In the example every row with class='12' will be deleted.\\n                        Example in SQL- DELETE FROM table WHERE CLASS= 12; \""
      ]
     },
     "execution_count": 3,
     "metadata": {},
     "output_type": "execute_result"
    }
   ],
   "source": [
    "#Que3\n",
    "\"\"\" \n",
    "    1) DML- It stands for data manipulative language. It consists of commands which are used to manipulate data present inside a database.\n",
    "            \n",
    "            It consists of sql commands such as-\n",
    "            a) INSERT : INSERT is used to enter data into table.\n",
    "                        Example in SQL- INSERT INTO table1 VALUES ('sql','query','example');\n",
    "            b) UPDATE: UPDATE is used to update data into a table. SET is used to set new valus and WHERE is used to select row to be updated.\n",
    "                       Example in SQL- UPDATE table1 SET NAME = 'SALMAN', CLASS = '12' WHERE ID='2022';\n",
    "            c) DELETE : DELETE is used to delete records from a table. In the example every row with class='12' will be deleted.\n",
    "                        Example in SQL- DELETE FROM table WHERE CLASS= 12; \"\"\""
   ]
  },
  {
   "cell_type": "code",
   "execution_count": 4,
   "id": "7f115830-f502-4b60-b597-21f1b4814f0d",
   "metadata": {},
   "outputs": [
    {
     "data": {
      "text/plain": [
       "'\\n    1)DQL- DQL stands for Data Query Language. It is used to perform queries upon data. It is a component of SQL statement that allows getting \\n           data from the database and imposing order upon it. It includes the SELECT command.\\n           a) SELECT: The SELECT Statement in SQL is used to retrieve or fetch data from a database. We specify the columns we want using the\\n                       SELECT statement and then specify the query which is to be performed upon the selected data.\\n                       Example in SQL- The below statement will get all the fields selected from the table named table1.\\n                                       SELECT * FROM table1; '"
      ]
     },
     "execution_count": 4,
     "metadata": {},
     "output_type": "execute_result"
    }
   ],
   "source": [
    "#Que4\n",
    "\"\"\"\n",
    "    1)DQL- DQL stands for Data Query Language. It is used to perform queries upon data. It is a component of SQL statement that allows getting \n",
    "           data from the database and imposing order upon it. It includes the SELECT command.\n",
    "           a) SELECT: The SELECT Statement in SQL is used to retrieve or fetch data from a database. We specify the columns we want using the\n",
    "                       SELECT statement and then specify the query which is to be performed upon the selected data.\n",
    "                       Example in SQL- The below statement will get all the fields selected from the table named table1.\n",
    "                                       SELECT * FROM table1; \"\"\""
   ]
  },
  {
   "cell_type": "code",
   "execution_count": 5,
   "id": "8f3ef233-c769-4eef-aad9-6bfe7931c25e",
   "metadata": {},
   "outputs": [
    {
     "data": {
      "text/plain": [
       "' \\n    1) Primary key- A primary key is used to ensure that data in a specific column is unique. For example in a table of student data student_id can be\\n                    considered as primary key every student has a unique id.\\n    \\n    2) Foreign key- A foreign key is a column or group of columns in a relational database which provides link between two tables. For example\\n                    consider two tables of student_info and student_grades most probably student_id will be a Foreign key in these two tables. '"
      ]
     },
     "execution_count": 5,
     "metadata": {},
     "output_type": "execute_result"
    }
   ],
   "source": [
    "#Que5\n",
    "\"\"\" \n",
    "    1) Primary key- A primary key is used to ensure that data in a specific column is unique. For example in a table of student data student_id can be\n",
    "                    considered as primary key every student has a unique id.\n",
    "    \n",
    "    2) Foreign key- A foreign key is a column or group of columns in a relational database which provides link between two tables. For example\n",
    "                    consider two tables of student_info and student_grades most probably student_id will be a Foreign key in these two tables. \"\"\""
   ]
  },
  {
   "cell_type": "code",
   "execution_count": 6,
   "id": "e1a980db-5f21-45bc-9a43-47bafb21e632",
   "metadata": {},
   "outputs": [
    {
     "data": {
      "text/plain": [
       "'\\n    The code used to connect Mysql to python is given below.\\n    First import the mysql.connecter then create a instance for it which consists host,user and password arguments.\\n    import mysql.connector\\n    mydb = mysql.connector.connect(\\n      host=\"localhost\",\\n      user=\"abc\",\\n      password=\"password\"\\n    )\\n    cursor(): It acts as a middle wire between the Mysql database and sql query. It is created after connecting to the Mysql database.\\n    Example: mycursor = mydb.cursor()\\n\\n    Execute(): This method takes sql query as a input arguments in string format which is then executed in the Mqsql database.\\n    Example: mycursor.execute(\"CREATE TABLE if not exists test1.test_table(c1 INT, c2 VARCHAR(50), c3 FLOAT\") '"
      ]
     },
     "execution_count": 6,
     "metadata": {},
     "output_type": "execute_result"
    }
   ],
   "source": [
    "#Que6\n",
    "\"\"\"\n",
    "    The code used to connect Mysql to python is given below.\n",
    "    First import the mysql.connecter then create a instance for it which consists host,user and password arguments.\n",
    "    import mysql.connector\n",
    "    mydb = mysql.connector.connect(\n",
    "      host=\"localhost\",\n",
    "      user=\"abc\",\n",
    "      password=\"password\"\n",
    "    )\n",
    "    cursor(): It acts as a middle wire between the Mysql database and sql query. It is created after connecting to the Mysql database.\n",
    "    Example: mycursor = mydb.cursor()\n",
    "\n",
    "    Execute(): This method takes sql query as a input arguments in string format which is then executed in the Mqsql database.\n",
    "    Example: mycursor.execute(\"CREATE TABLE if not exists test1.test_table(c1 INT, c2 VARCHAR(50), c3 FLOAT\") \"\"\""
   ]
  },
  {
   "cell_type": "code",
   "execution_count": 7,
   "id": "4e6179bd-7375-4ba3-a496-e8ad5ae29fff",
   "metadata": {},
   "outputs": [
    {
     "data": {
      "text/plain": [
       "\" \\n    First the query processors needs to know the involved tables, hence the following clauses are executed first.\\n    1)FROM\\n    2)ON\\n    3)JOIN\\n    \\n    After which the rows are filtered out using the clause.\\n    4)WHERE\\n    \\n    Now the processor tries to prepare the result's appearance as it knows from where the data is to be taken.\\n    5)GROUP BY\\n    6)WITH CUBE or WITH ROLLUP\\n    7)HAVING\\n    \\n    The cloumns are to be be processed now for which proccessor execute the query:\\n    8)SELECT\\n    \\n    Finally the processor prepares the order.\\n    9)ORDER BY \\n\""
      ]
     },
     "execution_count": 7,
     "metadata": {},
     "output_type": "execute_result"
    }
   ],
   "source": [
    "#Que7\n",
    "\"\"\" \n",
    "    First the query processors needs to know the involved tables, hence the following clauses are executed first.\n",
    "    1)FROM\n",
    "    2)ON\n",
    "    3)JOIN\n",
    "    \n",
    "    After which the rows are filtered out using the clause.\n",
    "    4)WHERE\n",
    "    \n",
    "    Now the processor tries to prepare the result's appearance as it knows from where the data is to be taken.\n",
    "    5)GROUP BY\n",
    "    6)WITH CUBE or WITH ROLLUP\n",
    "    7)HAVING\n",
    "    \n",
    "    The cloumns are to be be processed now for which proccessor execute the query:\n",
    "    8)SELECT\n",
    "    \n",
    "    Finally the processor prepares the order.\n",
    "    9)ORDER BY \n",
    "\"\"\""
   ]
  },
  {
   "cell_type": "code",
   "execution_count": null,
   "id": "62de04df-af8d-486a-a110-99cd26ae6257",
   "metadata": {},
   "outputs": [],
   "source": []
  }
 ],
 "metadata": {
  "kernelspec": {
   "display_name": "Python 3 (ipykernel)",
   "language": "python",
   "name": "python3"
  },
  "language_info": {
   "codemirror_mode": {
    "name": "ipython",
    "version": 3
   },
   "file_extension": ".py",
   "mimetype": "text/x-python",
   "name": "python",
   "nbconvert_exporter": "python",
   "pygments_lexer": "ipython3",
   "version": "3.10.8"
  }
 },
 "nbformat": 4,
 "nbformat_minor": 5
}
