{
 "cells": [
  {
   "cell_type": "code",
   "execution_count": 1,
   "id": "aeff1406-9cd6-4586-a0d0-db57bdde504e",
   "metadata": {},
   "outputs": [
    {
     "name": "stdout",
     "output_type": "stream",
     "text": [
      "Name: John Doe\n",
      "Age: 30\n"
     ]
    }
   ],
   "source": [
    "#Que1\n",
    "#In Object-Oriented Programming (OOP), a class is a blueprint for creating objects (a particular data structure), providing initial values for state (member variables or attributes), and implementations of behavior (member functions or methods).\n",
    "#An object is an instance of a class. When you create an object from a class, you allocate memory for all its member variables and you can use the member functions to manipulate the object's data.\n",
    "\n",
    "class Person:\n",
    "    def __init__(self, name, age):\n",
    "        self.name = name\n",
    "        self.age = age\n",
    "\n",
    "    def display(self):\n",
    "        print(\"Name:\", self.name)\n",
    "        print(\"Age:\", self.age)\n",
    "        \n",
    "person = Person(\"John Doe\", 30)\n",
    "person.display()\n",
    "\n",
    "#So, in this example, the class Person is a blueprint for creating objects of type Person, and the object person is an instance of the class Person.\n",
    "\n"
   ]
  },
  {
   "cell_type": "code",
   "execution_count": 2,
   "id": "c4e9dfdd-24e1-4a8b-a546-5b35823e0a57",
   "metadata": {},
   "outputs": [],
   "source": [
    "#Que2\n",
    "#The four pillars of Object-Oriented Programming (OOP) are:\n",
    "#Abstraction: Hiding the implementation details of a class and exposing only the essential features to the user. This allows you to simplify complex systems by breaking them down into smaller and more manageable parts.\n",
    "#Encapsulation: Wrapping the data and functions that operate on that data within a single unit or object. This helps to reduce the coupling between objects and makes the system more modular and flexible.\n",
    "#Inheritance: Creating new classes based on existing classes. The new classes inherit all the attributes and behaviors of the existing classes, which makes it easier to reuse existing code and to create new classes that are customized for specific needs.\n",
    "#Polymorphism: Allowing objects of different classes to be treated as objects of a common class. This allows you to write generic code that can work with objects of different types, making your code more flexible and easier to maintain.\n"
   ]
  },
  {
   "cell_type": "code",
   "execution_count": 3,
   "id": "1145633d-f4a8-40b6-9d0f-939befcf3a7b",
   "metadata": {},
   "outputs": [
    {
     "name": "stdout",
     "output_type": "stream",
     "text": [
      "Name: John Doe\n",
      "Age: 30\n"
     ]
    }
   ],
   "source": [
    "#Que3\n",
    "#The __init__ method, also known as the constructor, is a special method in Python classes that is automatically called when an object of the class is created. It is used to initialize the attributes of the class, providing default values for the object's state.\n",
    "#For example, consider a class Person that represents a person with a name and an age. Here's how you might define this class in Python:\n",
    "\n",
    "class Person:\n",
    "    def __init__(self, name, age):\n",
    "        self.name = name\n",
    "        self.age = age\n",
    "\n",
    "    def display(self):\n",
    "        print(\"Name:\", self.name)\n",
    "        print(\"Age:\", self.age)\n",
    "\n",
    "person = Person(\"John Doe\", 30)\n",
    "person.display()\n"
   ]
  },
  {
   "cell_type": "code",
   "execution_count": 4,
   "id": "f7b254c0-46a3-4555-85ad-960afd2e95f6",
   "metadata": {},
   "outputs": [
    {
     "name": "stdout",
     "output_type": "stream",
     "text": [
      "Name: John Doe\n",
      "Age: 30\n"
     ]
    }
   ],
   "source": [
    "#Que4\n",
    "#In Object-Oriented Programming (OOP), self is a reference to the instance of the class being used. When you define a method in a class, the first parameter of the method must be self. The self parameter is used to access the instance's attributes and methods.\n",
    "#When a method is called on an object, the object itself is passed as the first argument to the method. This argument is stored in self, which acts as a placeholder for the object. By using self, you can access the attributes and methods of the object within the method.\n",
    "\n",
    "class Person:\n",
    "    def __init__(self, name, age):\n",
    "        self.name = name\n",
    "        self.age = age\n",
    "\n",
    "    def display(self):\n",
    "        print(\"Name:\", self.name)\n",
    "        print(\"Age:\", self.age)\n",
    "        \n",
    "person = Person(\"John Doe\", 30)\n",
    "person.display()\n",
    "\n",
    "\n",
    "#This creates an instance of the Person class, initializes its name and age attributes, and calls the display method on the instance. The display method uses self to access the name and age attributes of the instance, which are then displayed.\n",
    "#In summary, self is used in OOP to allow a class to access its own attributes and methods. It acts as a placeholder for the instance of the class, and makes it possible to use the methods of the class on the instance.\n"
   ]
  },
  {
   "cell_type": "code",
   "execution_count": 5,
   "id": "642a18bb-4366-413f-8d35-20061ddc05a1",
   "metadata": {},
   "outputs": [
    {
     "name": "stdout",
     "output_type": "stream",
     "text": [
      "Name: Buddy, Species: Dog, Breed: Labrador\n"
     ]
    }
   ],
   "source": [
    "#Que5\n",
    "#Single Inheritance: In single inheritance, a subclass inherits from a single superclass. This is the simplest form of inheritance and involves only one parent class and one child class.\n",
    "\n",
    "class Animal:\n",
    "    def __init__(self, name, species):\n",
    "        self.name = name\n",
    "        self.species = species\n",
    "        \n",
    "    def display(self):\n",
    "        print(f\"Name: {self.name}, Species: {self.species}\")\n",
    "        \n",
    "class Dog(Animal):\n",
    "    def __init__(self, name, breed):\n",
    "        Animal.__init__(self, name, species=\"Dog\")\n",
    "        self.breed = breed\n",
    "        \n",
    "    def display(self):\n",
    "        print(f\"Name: {self.name}, Species: {self.species}, Breed: {self.breed}\")\n",
    "\n",
    "dog = Dog(\"Buddy\", \"Labrador\")\n",
    "dog.display()\n"
   ]
  },
  {
   "cell_type": "code",
   "execution_count": 6,
   "id": "3c2f6330-5e8d-46a0-ac58-2e01073df159",
   "metadata": {},
   "outputs": [
    {
     "name": "stdout",
     "output_type": "stream",
     "text": [
      "Make: Toyota, Model: Camry\n",
      "Horsepower: 250\n",
      "Gears: 6\n"
     ]
    }
   ],
   "source": [
    "#Multiple Inheritance: In multiple inheritance, a subclass inherits from multiple superclasses. This allows a subclass to inherit properties and methods from more than one parent class.\n",
    "\n",
    "class Engine:\n",
    "    def __init__(self, horsepower):\n",
    "        self.horsepower = horsepower\n",
    "        \n",
    "    def display(self):\n",
    "        print(f\"Horsepower: {self.horsepower}\")\n",
    "        \n",
    "class Transmission:\n",
    "    def __init__(self, gears):\n",
    "        self.gears = gears\n",
    "        \n",
    "    def display(self):\n",
    "        print(f\"Gears: {self.gears}\")\n",
    "        \n",
    "class Car(Engine, Transmission):\n",
    "    def __init__(self, make, model, horsepower, gears):\n",
    "        Engine.__init__(self, horsepower)\n",
    "        Transmission.__init__(self, gears)\n",
    "        self.make = make\n",
    "        self.model = model\n",
    "        \n",
    "    def display(self):\n",
    "        print(f\"Make: {self.make}, Model: {self.model}\")\n",
    "        Engine.display(self)\n",
    "        Transmission.display(self)\n",
    "\n",
    "car = Car(\"Toyota\", \"Camry\", 250, 6)\n",
    "car.display()\n"
   ]
  },
  {
   "cell_type": "code",
   "execution_count": 7,
   "id": "61277ce6-b2cd-48b2-8158-2da8c6358a31",
   "metadata": {},
   "outputs": [],
   "source": [
    "#Multi-level Inheritance: In multi-level inheritance, a subclass inherits from a parent class, which in turn inherits from another parent class. This allows for a chain of inheritance, with properties and methods being passed down from parent to child.\n",
    "\n",
    "class Vehicle:\n",
    "    def __init__(self, wheels):\n",
    "        self.wheels = wheels\n",
    "        \n",
    "    def display(self):\n",
    "        print(f\"Wheels: {self.wheels}\")\n",
    "        \n",
    "class Motorcycle(Vehicle):\n",
    "    def __init__(self, make, model, wheels):\n",
    "        Vehicle.__init__(self, wheels)\n",
    "        self.make = make\n",
    "        self\n"
   ]
  },
  {
   "cell_type": "code",
   "execution_count": null,
   "id": "6a1f0690-6d80-4566-bcaf-9b5d48e0a6b1",
   "metadata": {},
   "outputs": [],
   "source": []
  },
  {
   "cell_type": "code",
   "execution_count": null,
   "id": "3efaf76a-f115-4c31-8f0d-4fbfe946e5d0",
   "metadata": {},
   "outputs": [],
   "source": []
  }
 ],
 "metadata": {
  "kernelspec": {
   "display_name": "Python 3 (ipykernel)",
   "language": "python",
   "name": "python3"
  },
  "language_info": {
   "codemirror_mode": {
    "name": "ipython",
    "version": 3
   },
   "file_extension": ".py",
   "mimetype": "text/x-python",
   "name": "python",
   "nbconvert_exporter": "python",
   "pygments_lexer": "ipython3",
   "version": "3.10.8"
  }
 },
 "nbformat": 4,
 "nbformat_minor": 5
}
