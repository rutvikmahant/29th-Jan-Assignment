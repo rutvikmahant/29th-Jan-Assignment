{
 "cells": [
  {
   "cell_type": "code",
   "execution_count": 2,
   "id": "e5c6eb65-4400-4837-a932-1c8f4870135e",
   "metadata": {},
   "outputs": [
    {
     "name": "stdin",
     "output_type": "stream",
     "text": [
      "Enter the Percentage 98\n"
     ]
    },
    {
     "name": "stdout",
     "output_type": "stream",
     "text": [
      "GRADE A\n"
     ]
    }
   ],
   "source": [
    "#Que1\n",
    "percentage=int(input(\"Enter the Percentage\"))\n",
    "if percentage>90:\n",
    "    print(\"GRADE A\")\n",
    "elif percentage > 80 and percentage <= 90:\n",
    "    print(\"GRADE B\")\n",
    "elif percentage >= 60 and percentage <= 80:\n",
    "    print(\"GRADE C\")\n",
    "else:\n",
    "    print(\"GRADE D\")\n",
    "               "
   ]
  },
  {
   "cell_type": "code",
   "execution_count": null,
   "id": "4c603850-b150-48b9-bc3e-19087bc6ddaf",
   "metadata": {},
   "outputs": [],
   "source": [
    "#Que2\n",
    "Cost_Price=int(input(\"Enter the Cost Price\"))\n",
    "if Cost_Price > 100000:\n",
    "    print(\"15% TAX\")\n",
    "elif Cost_Price > 50000 and Cost_Price <=100000:\n",
    "    print(\"10% TAX\")\n",
    "else:\n",
    "    print(\"5% TAX\")"
   ]
  },
  {
   "cell_type": "code",
   "execution_count": null,
   "id": "c70421ad-8c56-4bba-8403-a111bc3d6230",
   "metadata": {},
   "outputs": [],
   "source": [
    "#Que3\n",
    "City=str(input(\"Enter the name of the city:\"))\n",
    "if City == \"Delhi\":\n",
    "    print(\"Red Fort\")\n",
    "elif City == \"Agra\":\n",
    "    print(\"Taj Mahal\")\n",
    "elif City == \"Jaipur\":\n",
    "    print(\"Jal Mahal\")\n",
    "else:\n",
    "    print(\"The monument of the city you are looking is not found\")\n"
   ]
  },
  {
   "cell_type": "code",
   "execution_count": null,
   "id": "3e5d4b0b-3159-454e-a2b9-0f83ee90e450",
   "metadata": {},
   "outputs": [],
   "source": [
    "#Que4\n",
    "def count(n):\n",
    "    count = 0\n",
    "    while n > 10:\n",
    "        n = n / 3\n",
    "        count += 1\n",
    "    return count\n",
    "\n",
    "number = int(input(\"Enter a number: \"))\n",
    "print(\"The number of times\", number, \"can be divided by 3 before it is less than or equal to 10 is\", count(number))"
   ]
  },
  {
   "cell_type": "code",
   "execution_count": null,
   "id": "71df9488-2837-4b4e-8487-d22a8e3013c9",
   "metadata": {},
   "outputs": [],
   "source": [
    "#Que5\n",
    "#The while loop in Python is used to repeatedly execute a block of code as long as a given condition is True. The while loop is a pre-test loop, meaning that the condition is evaluated before each iteration of the loop. If the condition is True, the code block inside the loop is executed, and the process repeats until the condition becomes False.\n",
    "\n",
    "count = 1\n",
    "\n",
    "# while loop to print numbers from 1 to 5\n",
    "while count <= 5:\n",
    "    print(count)\n",
    "    count += 1"
   ]
  },
  {
   "cell_type": "code",
   "execution_count": null,
   "id": "dd45609d-4cb3-4465-8cc4-82b7bb459333",
   "metadata": {},
   "outputs": [],
   "source": [
    "#Que6\n",
    "#Triangle Pattern\n",
    "n = 5\n",
    "\n",
    "for i in range(1, n + 1):\n",
    "    for j in range(1, i + 1):\n",
    "        print(\"*\", end=\"\")\n",
    "    print(\"\")\n",
    "\n",
    "    \n",
    "#Pyramid Pattern\n",
    "n = 5\n",
    "\n",
    "for i in range(1, n + 1):\n",
    "    for j in range(n - i):\n",
    "        print(\" \", end=\"\")\n",
    "    for j in range(i):\n",
    "        print(\"*\", end=\"\")\n",
    "    print(\"\")\n",
    "\n",
    "    \n",
    "#Diamond PAttern\n",
    "n = 5\n",
    "\n",
    "for i in range(1, n + 1):\n",
    "    for j in range(n - i):\n",
    "        print(\" \", end=\"\")\n",
    "    for j in range(2 * i - 1):\n",
    "        print(\"*\", end=\"\")\n",
    "    print(\"\")\n",
    "\n",
    "for i in range(n - 1, 0, -1):\n",
    "    for j in range(n - i):\n",
    "        print(\" \", end=\"\")\n",
    "    for j in range(2 * i - 1):\n",
    "        print(\"*\", end=\"\")\n",
    "    print(\"\")\n"
   ]
  },
  {
   "cell_type": "code",
   "execution_count": null,
   "id": "de5ae2f1-7777-40c7-b338-dba4b969422a",
   "metadata": {},
   "outputs": [],
   "source": [
    "#Que7\n",
    "count = 10\n",
    "\n",
    "while count >= 1:\n",
    "    print(count)\n",
    "    count = count - 1\n"
   ]
  },
  {
   "cell_type": "code",
   "execution_count": null,
   "id": "c837ed32-6ee8-45b3-b7a7-5ea58cfcaa35",
   "metadata": {},
   "outputs": [],
   "source": [
    "#Que8\n",
    "count = 10\n",
    "\n",
    "while count >= 1:\n",
    "    print(count)\n",
    "    count = count - 1"
   ]
  }
 ],
 "metadata": {
  "kernelspec": {
   "display_name": "Python 3 (ipykernel)",
   "language": "python",
   "name": "python3"
  },
  "language_info": {
   "codemirror_mode": {
    "name": "ipython",
    "version": 3
   },
   "file_extension": ".py",
   "mimetype": "text/x-python",
   "name": "python",
   "nbconvert_exporter": "python",
   "pygments_lexer": "ipython3",
   "version": "3.10.8"
  }
 },
 "nbformat": 4,
 "nbformat_minor": 5
}
