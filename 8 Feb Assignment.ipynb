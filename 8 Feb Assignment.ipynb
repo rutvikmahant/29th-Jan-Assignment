{
 "cells": [
  {
   "cell_type": "code",
   "execution_count": 1,
   "id": "3955b8e8-9f96-4b86-8df0-54aaf384fd1f",
   "metadata": {},
   "outputs": [
    {
     "data": {
      "text/plain": [
       "2"
      ]
     },
     "execution_count": 1,
     "metadata": {},
     "output_type": "execute_result"
    }
   ],
   "source": [
    "#Que1\n",
    "\"\"\" Abstraction is used to hide internal functionality of function from the user. User will be able to see the function but how it works will be hidden. \"\"\"\n",
    "\"\"\" Here we have created a abstract method \"st\". Then we have inherited the base class \"student\" in subclasses \"std1\", \"std2\". The abstract method inside the abstract class is never invoked. \"\"\"\n",
    "from abc import ABC, abstractmethod\n",
    "class student(ABC):\n",
    "    @abstractmethod\n",
    "    def st(self,a,b):\n",
    "        pass\n",
    "class std1(student):\n",
    "    def st(self,a,b):\n",
    "        return a\n",
    "class std2(student):\n",
    "    def st(self,a,b):\n",
    "        return b\n",
    "x = std1()\n",
    "x.st(2,3)"
   ]
  },
  {
   "cell_type": "code",
   "execution_count": 2,
   "id": "05606475-29c8-4f11-a3fc-a2bf820b810f",
   "metadata": {},
   "outputs": [
    {
     "name": "stdout",
     "output_type": "stream",
     "text": [
      "Abstraction: 78\n",
      "Encapsulation: 23\n"
     ]
    }
   ],
   "source": [
    "#Que2\n",
    "\"\"\" Abstraction is used to hide internal functionality of function from the user while encapsulation is used to  restrict access to internal methods and variables. \"\"\"\n",
    "\"\"\" Example- The school class is a abstract class with abstract method result. When this class is inherited into subclass and object is called the abstract method is \n",
    "    never invoked only the child class method is invoked. Abstract class acts like a standard interface for other classes it is never showcased to the user.\n",
    "    In class class1 we are encapsulating the variable by using\"__\" as prefix which stops it to be accessed rather we can create another method which provide the access \n",
    "    to hidden variables.\"\"\"\n",
    "\n",
    "from abc import ABC, abstractmethod\n",
    "class school(ABC):\n",
    "    @abstractmethod\n",
    "    def result(self,res):\n",
    "        pass\n",
    "class school1(school):\n",
    "    def result(self,res):\n",
    "        return res\n",
    "class class1:\n",
    "    def __init__(self,a):\n",
    "        self.__a=a\n",
    "    def seta(self,b):\n",
    "        self.__a = b if b>0 else a\n",
    "    def geta(self):\n",
    "        return self.__a\n",
    "\n",
    "x = school1()\n",
    "print(\"Abstraction:\",x.result(78))\n",
    "y = class1(34)\n",
    "y.seta(23)\n",
    "print(\"Encapsulation:\",y.geta())"
   ]
  },
  {
   "cell_type": "code",
   "execution_count": 4,
   "id": "76f0d7e6-febd-47fc-a50b-5ecc5d20df16",
   "metadata": {},
   "outputs": [],
   "source": [
    "#Que3\n",
    "#ABC module stands for abstract base class module. It makes the inherited subclasses bind to apply methods delcared by it. It can be used a standarized bluprint which is to be followed for creation of each child class."
   ]
  },
  {
   "cell_type": "code",
   "execution_count": 5,
   "id": "9fa95b8e-269f-40c4-bbda-5ec3ec38ee41",
   "metadata": {},
   "outputs": [],
   "source": [
    "#Que4\n",
    "#We can achieve data abstraction by importing ABC and abstractmethod from abc module. ABC is to be passed thorugh the class we want to be the abstract class and abstractmethod is a decorator which helps us to declare abstract method. abstract method has to be compulsary used by the child classes of abstract class."
   ]
  },
  {
   "cell_type": "code",
   "execution_count": 6,
   "id": "6ee9c537-2d74-4518-b40a-334fe862d8d7",
   "metadata": {},
   "outputs": [
    {
     "ename": "TypeError",
     "evalue": "Can't instantiate abstract class Aircraft with abstract method fly",
     "output_type": "error",
     "traceback": [
      "\u001b[0;31m---------------------------------------------------------------------------\u001b[0m",
      "\u001b[0;31mTypeError\u001b[0m                                 Traceback (most recent call last)",
      "Cell \u001b[0;32mIn[6], line 10\u001b[0m\n\u001b[1;32m      7\u001b[0m     \u001b[38;5;129m@abstractmethod\u001b[39m\n\u001b[1;32m      8\u001b[0m     \u001b[38;5;28;01mdef\u001b[39;00m \u001b[38;5;21mfly\u001b[39m(\u001b[38;5;28mself\u001b[39m):\n\u001b[1;32m      9\u001b[0m         \u001b[38;5;28;01mpass\u001b[39;00m\n\u001b[0;32m---> 10\u001b[0m a \u001b[38;5;241m=\u001b[39m \u001b[43mAircraft\u001b[49m\u001b[43m(\u001b[49m\u001b[43m)\u001b[49m\n",
      "\u001b[0;31mTypeError\u001b[0m: Can't instantiate abstract class Aircraft with abstract method fly"
     ]
    }
   ],
   "source": [
    "#Que5\n",
    "\"\"\" We cannot create an instance from abstract class. \"\"\"\n",
    "\"\"\" Abstract class works like tempalate for developing the code. It is of no use other than this hence it cannot be instantiated. \"\"\"\n",
    "from abc import ABC, abstractmethod\n",
    "class Aircraft(ABC):\n",
    "  \n",
    "    @abstractmethod\n",
    "    def fly(self):\n",
    "        pass\n",
    "a = Aircraft()"
   ]
  },
  {
   "cell_type": "code",
   "execution_count": null,
   "id": "1766c46a-c3ec-4873-b7a5-5f3e53abce8a",
   "metadata": {},
   "outputs": [],
   "source": []
  }
 ],
 "metadata": {
  "kernelspec": {
   "display_name": "Python 3 (ipykernel)",
   "language": "python",
   "name": "python3"
  },
  "language_info": {
   "codemirror_mode": {
    "name": "ipython",
    "version": 3
   },
   "file_extension": ".py",
   "mimetype": "text/x-python",
   "name": "python",
   "nbconvert_exporter": "python",
   "pygments_lexer": "ipython3",
   "version": "3.10.8"
  }
 },
 "nbformat": 4,
 "nbformat_minor": 5
}
