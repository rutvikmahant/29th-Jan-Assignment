{
 "cells": [
  {
   "cell_type": "code",
   "execution_count": null,
   "id": "2089cb2f-6e43-43b5-9cd9-4fa297717227",
   "metadata": {},
   "outputs": [],
   "source": [
    "#Que1\n",
    "#A for loop is used when you want to iterate over a sequence (such as a list, tuple, string, or range) and execute a block of code for each item in the sequence. The general syntax of a for loop is:"
   ]
  },
  {
   "cell_type": "code",
   "execution_count": null,
   "id": "987521ed-9c80-438b-8495-82d22eccd3ad",
   "metadata": {},
   "outputs": [],
   "source": [
    "#for variable in sequence:\n",
    "    # code to be executed for each item in the sequence\n"
   ]
  },
  {
   "cell_type": "code",
   "execution_count": null,
   "id": "118d7dce-79be-43b8-8bda-f27949db9506",
   "metadata": {},
   "outputs": [],
   "source": [
    "#For example, let's say you have a list of numbers and you want to print each number in the list:\n",
    "numbers = [1, 2, 3, 4, 5]\n",
    "for num in numbers:\n",
    "    print(num)\n"
   ]
  },
  {
   "cell_type": "code",
   "execution_count": null,
   "id": "94763dcc-0a77-4bcf-9945-d2720a891c03",
   "metadata": {},
   "outputs": [],
   "source": [
    "#A while loop is used when you want to keep executing a block of code as long as a certain condition is met. The general syntax of a while loop is:"
   ]
  },
  {
   "cell_type": "code",
   "execution_count": null,
   "id": "02f3f448-9dd0-44c1-a130-a8979b93b725",
   "metadata": {},
   "outputs": [],
   "source": [
    "#while condition:\n",
    "    # code to be executed while the condition is true\n"
   ]
  },
  {
   "cell_type": "code",
   "execution_count": null,
   "id": "e6dc8d09-514e-4e43-8b73-3e56e07b0108",
   "metadata": {},
   "outputs": [],
   "source": [
    "#For example, let's say you want to print the numbers from 1 to 5:\n",
    "i = 1\n",
    "while i <= 5:\n",
    "    print(i)\n",
    "    i += 1\n",
    "#In this example, the condition i <= 5 is true as long as i is less than or equal to 5, and the code inside the loop keeps adding 1 to i on each iteration, so eventually the condition will become false and the loop will stop.\n"
   ]
  },
  {
   "cell_type": "code",
   "execution_count": null,
   "id": "ff9a9b8a-c34c-49e1-b3b6-40e27209c2e2",
   "metadata": {},
   "outputs": [],
   "source": [
    "#Que2\n",
    "#Program to print sum and product of first 10 natural numbers using for loop\n",
    "sum=0\n",
    "product = 1\n",
    "for i in range(1,11):\n",
    "    sum+=i\n",
    "    product*=i\n",
    "print(\"The sum is:\",sum)\n",
    "print(\"The product is:\",product)\n",
    "    "
   ]
  },
  {
   "cell_type": "code",
   "execution_count": null,
   "id": "c8a7f9a5-2a99-4ac6-8179-57e376681290",
   "metadata": {},
   "outputs": [],
   "source": [
    "#program to print sum and product of first 10 natural numbers using while loop\n",
    "n=10\n",
    "sum=0\n",
    "product=1\n",
    "i=1\n",
    "while i <= 10:\n",
    "    sum+=i\n",
    "    product*=i\n",
    "    i+=1\n",
    "print(\"The sum is:\",sum)\n",
    "print(\"The product is:\",product)\n",
    "    "
   ]
  },
  {
   "cell_type": "code",
   "execution_count": 1,
   "id": "9a50e2f1-389d-45dc-a75c-4f1e02c03e55",
   "metadata": {},
   "outputs": [
    {
     "name": "stdin",
     "output_type": "stream",
     "text": [
      "Enter the number of units consumed:  320\n"
     ]
    },
    {
     "name": "stdout",
     "output_type": "stream",
     "text": [
      "The total electricity bill is: Rs. 2450.0\n"
     ]
    }
   ],
   "source": [
    "#Que3\n",
    "def electricity_bill(units):\n",
    "    if units <= 100:\n",
    "        return units * 4.5\n",
    "    elif units <= 200:\n",
    "        return (100 * 4.5) + ((units - 100) * 6)\n",
    "    elif units <= 300:\n",
    "        return (100 * 4.5) + (100 * 6) + ((units - 200) * 10)\n",
    "    else:\n",
    "        return (100 * 4.5) + (100 * 6) + (100 * 10) + ((units - 300) * 20)\n",
    "\n",
    "units = int(input(\"Enter the number of units consumed: \"))\n",
    "bill = electricity_bill(units)\n",
    "print(\"The total electricity bill is: Rs.\", bill)"
   ]
  },
  {
   "cell_type": "code",
   "execution_count": 2,
   "id": "c9c1eb83-ea1b-4ecd-a8b6-944030fe70a2",
   "metadata": {},
   "outputs": [
    {
     "name": "stdout",
     "output_type": "stream",
     "text": [
      "The numbers whose cube is divisible by 4 or 5 are: [2, 4, 5, 6, 8, 10, 12, 14, 15, 16, 18, 20, 22, 24, 25, 26, 28, 30, 32, 34, 35, 36, 38, 40, 42, 44, 45, 46, 48, 50, 52, 54, 55, 56, 58, 60, 62, 64, 65, 66, 68, 70, 72, 74, 75, 76, 78, 80, 82, 84, 85, 86, 88, 90, 92, 94, 95, 96, 98, 100]\n",
      "The numbers whose cube is divisible by 4 or 5 are: [2, 4, 5, 6, 8, 10, 12, 14, 15, 16, 18, 20, 22, 24, 25, 26, 28, 30, 32, 34, 35, 36, 38, 40, 42, 44, 45, 46, 48, 50, 52, 54, 55, 56, 58, 60, 62, 64, 65, 66, 68, 70, 72, 74, 75, 76, 78, 80, 82, 84, 85, 86, 88, 90, 92, 94, 95, 96, 98, 100]\n"
     ]
    }
   ],
   "source": [
    "#Que4\n",
    "numbers = []\n",
    "for i in range(1, 101):\n",
    "    cube = i**3\n",
    "    if cube % 4 == 0 or cube % 5 == 0:\n",
    "        numbers.append(i)\n",
    "print(\"The numbers whose cube is divisible by 4 or 5 are:\", numbers)\n",
    "\n",
    "numbers = []\n",
    "i = 1\n",
    "while i <= 100:\n",
    "    cube = i**3\n",
    "    if cube % 4 == 0 or cube % 5 == 0:\n",
    "        numbers.append(i)\n",
    "    i += 1\n",
    "print(\"The numbers whose cube is divisible by 4 or 5 are:\", numbers)\n"
   ]
  },
  {
   "cell_type": "code",
   "execution_count": 5,
   "id": "ecf29f7e-35bd-4b4f-a5f8-3944ede50954",
   "metadata": {},
   "outputs": [
    {
     "name": "stdout",
     "output_type": "stream",
     "text": [
      "0\n"
     ]
    }
   ],
   "source": [
    "#Que5\n",
    "string=\" I want to become a data scientist\"\n",
    "count=0\n",
    "for i in range(len(string)):\n",
    "    if i==\"a\" or i==\"e\" or i==\"o\" or i==\"i\" or i==\"I\" or i==\"u\":\n",
    "        count+=1\n",
    "print(count)"
   ]
  },
  {
   "cell_type": "code",
   "execution_count": null,
   "id": "8da51cc9-b770-41d2-aaad-124aa89684df",
   "metadata": {},
   "outputs": [],
   "source": []
  }
 ],
 "metadata": {
  "kernelspec": {
   "display_name": "Python 3 (ipykernel)",
   "language": "python",
   "name": "python3"
  },
  "language_info": {
   "codemirror_mode": {
    "name": "ipython",
    "version": 3
   },
   "file_extension": ".py",
   "mimetype": "text/x-python",
   "name": "python",
   "nbconvert_exporter": "python",
   "pygments_lexer": "ipython3",
   "version": "3.10.8"
  }
 },
 "nbformat": 4,
 "nbformat_minor": 5
}
